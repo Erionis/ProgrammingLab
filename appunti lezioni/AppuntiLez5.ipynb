{
 "cells": [
  {
   "cell_type": "markdown",
   "metadata": {},
   "source": [
    "## Appunti dalla lezione 5"
   ]
  },
  {
   "cell_type": "code",
   "execution_count": 2,
   "metadata": {},
   "outputs": [
    {
     "name": "stdout",
     "output_type": "stream",
     "text": [
      "bla bla\n",
      "2\n"
     ]
    },
    {
     "data": {
      "text/plain": [
       "'sinistra'"
      ]
     },
     "execution_count": 2,
     "metadata": {},
     "output_type": "execute_result"
    }
   ],
   "source": [
    "# creo la class PAgina di un libro\n",
    "class Pagina:\n",
    "\n",
    "    #numero\n",
    "    def __init__(self, numero, capitolo, testo):\n",
    "        self.numero = numero\n",
    "        self.capitolo = capitolo\n",
    "        self.testo  = testo\n",
    "\n",
    "pagina1 = Pagina( numero = 1, capitolo  = \"primo Capitolo\", testo  = \"bla bla\")\n",
    "pagina2 = Pagina( numero = 2, capitolo  = \"primo Capitolo\", testo  = \"ciao ciao\")\n",
    "\n",
    "\"\"\" print(pagina1.testo)\n",
    "print(pagina2.testo) \"\"\"\n",
    "\n",
    "#creo la sotto classe paginadestra, prendo gratis tutte le qualità di Pagina\n",
    "class PaginaDestra(Pagina):\n",
    "\n",
    "    def posizione_numero(self):\n",
    "        return 'sinistra'\n",
    "    \n",
    "class PaginaSinistra(Pagina):\n",
    "\n",
    "    def posizione_numero(self):\n",
    "        return 'sinistra'\n",
    "    \n",
    "\n",
    "pagina1 = PaginaSinistra( numero = 1, capitolo  = \"primo Capitolo\", testo  = \"bla bla\")\n",
    "print(pagina1.testo)\n",
    "print(pagina2.numero)\n",
    "pagina1.posizione_numero()\n",
    "\n",
    "\n"
   ]
  },
  {
   "cell_type": "markdown",
   "metadata": {},
   "source": [
    "## Gestire gli ERRORI - Try-Except"
   ]
  },
  {
   "cell_type": "markdown",
   "metadata": {},
   "source": [
    "Exceprion  è la classe generale\n",
    "\n",
    "queste sono le specializzazioni:\n",
    "    \n",
    "    - ArithmeticError        \n",
    "        - FloatingPointError\n",
    "        - ZeroDivisionError\n",
    "    - AttributeError\n",
    "    - SyntaxError\n",
    "    - NameError\n",
    "    - TypeError\n",
    "    - ValueError\n"
   ]
  },
  {
   "cell_type": "code",
   "execution_count": 3,
   "metadata": {},
   "outputs": [
    {
     "name": "stdout",
     "output_type": "stream",
     "text": [
      "Non posso convertire \"my_var\" a valore numerico\n",
      "Ho avuto un errore di VALORE. \"my_var\" valeva \"ciao\"\n"
     ]
    }
   ],
   "source": [
    "try:\n",
    "    my_var = 'ciao'\n",
    "    my_var = float(my_var)\n",
    "\n",
    "except ValueError:\n",
    "    print('Non posso convertire \"my_var\" a valore numerico')\n",
    "    print('Ho avuto un errore di VALORE. \"my_var\" valeva \"{}\"'.format(my_var))\n",
    "\n",
    "except TypeError:\n",
    "    print('Non posso convertire \"my_var\" a valore numerico')\n",
    "    print('Ho avuto un errore di TIPO. \"my_var\" era di tipo \"{}\"'.format(type(my_var)))\n",
    "\n",
    "except Exception as e:\n",
    "    print('Non posso convertire \"my_var\" a valore numerico')\n",
    "    print('Ho avuto un errore generico:. \"my_var\" valeva \"{}\"'.format(e))\n",
    "\n",
    "    "
   ]
  },
  {
   "cell_type": "code",
   "execution_count": 4,
   "metadata": {},
   "outputs": [
    {
     "name": "stdout",
     "output_type": "stream",
     "text": [
      "Ho avuto un errore di VALORE e non ho potuto convertire il parametro \"a\" in valore numerico\n",
      "Uso il valore di default \"0\" per il paramentro \"a\"\n"
     ]
    }
   ],
   "source": [
    "# altro esempio\n",
    "a = 'ciao'\n",
    "\n",
    "try:\n",
    "    float(a)\n",
    "# gestisco il valueerror\n",
    "except ValueError: \n",
    "\n",
    "    print('Ho avuto un errore di VALORE e non ho potuto convertire il parametro \"a\" in valore numerico')\n",
    "    print('Uso il valore di default \"0\" per il paramentro \"a\"')\n",
    "    a = 0\n",
    "# gestisco typeError\n",
    "except TypeError:\n",
    "\n",
    "    print('Ho avuto un errore di TIPO e non ho potuto convertire il parametro \"a\" in valore numerico')    \n",
    "    print('Uso il valore di default \"0\" per il paramentro \"a\"')\n",
    "    a = 0\n",
    "# gestisco errori che non conosco\n",
    "except:\n",
    "    print('Ho avuto un errore SCONOSCIUTO mentre cercavo di convertire il paramentro \"a\" a valore numerico. Esco.')\n",
    "    import sys\n",
    "    sys-exit()\n",
    "\n"
   ]
  },
  {
   "cell_type": "markdown",
   "metadata": {},
   "source": [
    "## APPUNTI LEZIONE 6 - Sanitizzazione"
   ]
  }
 ],
 "metadata": {
  "kernelspec": {
   "display_name": "Python 3.10.0 64-bit",
   "language": "python",
   "name": "python3"
  },
  "language_info": {
   "codemirror_mode": {
    "name": "ipython",
    "version": 3
   },
   "file_extension": ".py",
   "mimetype": "text/x-python",
   "name": "python",
   "nbconvert_exporter": "python",
   "pygments_lexer": "ipython3",
   "version": "3.10.0"
  },
  "orig_nbformat": 4,
  "vscode": {
   "interpreter": {
    "hash": "aee8b7b246df8f9039afb4144a1f6fd8d2ca17a180786b69acc140d282b71a49"
   }
  }
 },
 "nbformat": 4,
 "nbformat_minor": 2
}
