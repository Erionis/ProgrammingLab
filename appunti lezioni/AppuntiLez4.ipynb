{
 "cells": [
  {
   "cell_type": "code",
   "execution_count": null,
   "metadata": {},
   "outputs": [],
   "source": [
    "number_list = [13,12,34,4,51,8,27,18]\n",
    "for item in number_list:\n",
    "    if item < 5:\n",
    "        print(item)"
   ]
  },
  {
   "cell_type": "code",
   "execution_count": null,
   "metadata": {},
   "outputs": [],
   "source": [
    "print(number_list[0:-1])"
   ]
  },
  {
   "cell_type": "markdown",
   "metadata": {},
   "source": [
    "## Accedere ai valori di un DIZIONARIO"
   ]
  },
  {
   "cell_type": "code",
   "execution_count": null,
   "metadata": {},
   "outputs": [],
   "source": [
    "my_dict = {'Trieste' : 34100, 'Padova': 35100 }\n",
    "my_dict\n",
    "print('CAP di Trieste è: {}'.format(my_dict['Trieste'])) #cosi accedo agli elementi del dizionario"
   ]
  },
  {
   "cell_type": "code",
   "execution_count": null,
   "metadata": {},
   "outputs": [],
   "source": [
    "for i, item in enumerate(number_list):\n",
    "    print('\\nPosizione {}: {}'.format(i, item))"
   ]
  },
  {
   "cell_type": "markdown",
   "metadata": {},
   "source": [
    "## come si scrivono le FUNZIONI"
   ]
  },
  {
   "cell_type": "code",
   "execution_count": null,
   "metadata": {},
   "outputs": [],
   "source": [
    "def eleva_al_quadrato(numero):\n",
    "    return numero ** 2\n",
    "\n",
    "eleva_al_quadrato(3)\n"
   ]
  },
  {
   "cell_type": "code",
   "execution_count": null,
   "metadata": {},
   "outputs": [],
   "source": [
    "my_list = ['Marco', 'Erion', 'Giulia']\n",
    "if 'Erion' in my_list:\n",
    "    print('Ho trovato Erion')"
   ]
  },
  {
   "cell_type": "code",
   "execution_count": null,
   "metadata": {},
   "outputs": [],
   "source": [
    "def sum_list(the_list):\n",
    "    sum  = 0\n",
    "    for item in the_list:\n",
    "        sum = sum  + item\n",
    "        return sum\n",
    "\n",
    "print('Somma: {}'.format(sum_list([1,4,10])))"
   ]
  },
  {
   "cell_type": "markdown",
   "metadata": {},
   "source": [
    "## I File\n"
   ]
  },
  {
   "cell_type": "code",
   "execution_count": null,
   "metadata": {},
   "outputs": [],
   "source": [
    "my_file = open('shampoo_sales.csv','r')\n",
    "print(my_file.read())\n",
    "my_file.close()"
   ]
  },
  {
   "cell_type": "markdown",
   "metadata": {},
   "source": [
    "si puo usare lo slicing delle stringhe per stampare solo un pezzetto di file"
   ]
  },
  {
   "cell_type": "code",
   "execution_count": null,
   "metadata": {},
   "outputs": [],
   "source": [
    "my_file = open('shampoo_sales.csv','r')\n",
    "print(my_file.read()[0:50]) #dal carattere 0 al carattere 50\n",
    "my_file.close()"
   ]
  },
  {
   "cell_type": "code",
   "execution_count": null,
   "metadata": {},
   "outputs": [],
   "source": [
    "# versione piu sofisticata\n",
    "#apro il file\n",
    "my_file = open('shampoo_sales.csv','r')\n",
    "# leggo il contenuto\n",
    "my_file_contents = my_file.read()\n",
    "#stampo a schermo i primi 50 caratteri\n",
    "if len(my_file_contents) > 50:\n",
    "    print(my_file_contents[0:50])\n",
    "else:\n",
    "    print(my_file_contents)\n",
    "# chiudo il file\n",
    "my_file.close()"
   ]
  },
  {
   "cell_type": "markdown",
   "metadata": {},
   "source": [
    "si puo anche stampare riga per riga"
   ]
  },
  {
   "cell_type": "code",
   "execution_count": null,
   "metadata": {},
   "outputs": [],
   "source": [
    "my_file = open('shampoo_sales.csv','r')\n",
    "print(my_file.readline()) # cosi non mi serve usare cicli fastidiosi\n",
    "print(my_file.readline()) # seconda riga\n",
    "my_file.close()"
   ]
  },
  {
   "cell_type": "code",
   "execution_count": null,
   "metadata": {},
   "outputs": [],
   "source": [
    "# questo è il modo pythonico di visualizzare un file\n",
    "my_file = open('shampoo_sales.csv','r')\n",
    "\n",
    "for line in my_file:\n",
    "    print(line)\n",
    "\n",
    "my_file.close()"
   ]
  },
  {
   "cell_type": "markdown",
   "metadata": {},
   "source": [
    "### Scrivere su un file"
   ]
  },
  {
   "cell_type": "code",
   "execution_count": null,
   "metadata": {},
   "outputs": [],
   "source": [
    "my_file = open('saluti.txt', 'w')\n",
    "my_file.write('Ciao mondo')\n",
    "my_file.close()"
   ]
  },
  {
   "cell_type": "markdown",
   "metadata": {},
   "source": [
    "### Metodo .split per separare le stringhe su uno specifico carattere"
   ]
  },
  {
   "cell_type": "code",
   "execution_count": null,
   "metadata": {},
   "outputs": [],
   "source": [
    "mia_stringa = 'Ciao, come va?'\n",
    "lista_elementi  = mia_stringa.split(',')\n",
    "print(lista_elementi)"
   ]
  },
  {
   "cell_type": "markdown",
   "metadata": {},
   "source": [
    "### Convertire una stringa in un valore numerico"
   ]
  },
  {
   "cell_type": "code",
   "execution_count": null,
   "metadata": {},
   "outputs": [],
   "source": [
    "mia_stringa = '5.5'\n",
    "mio_numero = float(mia_stringa)\n",
    "type(mio_numero)"
   ]
  },
  {
   "cell_type": "markdown",
   "metadata": {},
   "source": [
    "### aggiungere elemento ad una lista"
   ]
  },
  {
   "cell_type": "code",
   "execution_count": null,
   "metadata": {},
   "outputs": [],
   "source": [
    "mia_lista = [1,2,3]\n",
    "mia_lista.append(4)\n",
    "print(mia_lista)"
   ]
  },
  {
   "cell_type": "markdown",
   "metadata": {},
   "source": [
    "### Come leggere realmente un file CSV"
   ]
  },
  {
   "cell_type": "code",
   "execution_count": null,
   "metadata": {},
   "outputs": [],
   "source": [
    "# inizializzo una lista vuora per salvare i valori\n",
    "values = []\n",
    "# apro e leggo il file linea per linea\n",
    "my_file = open('shampoo_sales.csv','r')\n",
    "for line in my_file:\n",
    "    # faccio lo split di ogni riga sulla virgola\n",
    "    elements  = line.split(',')\n",
    "    # Se NON soto processando l'intestazione...\n",
    "    if elements[0] != 'Date':\n",
    "        # setto la data e il valore\n",
    "        date = elements[0]\n",
    "        value = elements[1]\n",
    "        # aggiungo alla lista dei valori questo valore\n",
    "        values.append(float(value))\n",
    "\n",
    "print(values)\n"
   ]
  },
  {
   "cell_type": "code",
   "execution_count": null,
   "metadata": {},
   "outputs": [],
   "source": [
    "# ESERCIZIO\n",
    "def sum_csv(file_name):\n",
    "    values = []\n",
    "    # apro e leggo il file linea per linea\n",
    "    my_file = open('shampoo_sales.csv','r')\n",
    "    for line in my_file:\n",
    "        # faccio lo split di ogni riga sulla virgola\n",
    "        elements  = line.split(',')\n",
    "        # Se NON soto processando l'intestazione...\n",
    "        if elements[0] != 'Date':\n",
    "            # setto la data e il valore\n",
    "            date = elements[0]\n",
    "            value = elements[1]\n",
    "            # aggiungo alla lista dei valori questo valore\n",
    "            values.append(float(value))\n",
    "    return sum(values)\n",
    "\n",
    "sum_csv('shampoo_sales.csv')"
   ]
  },
  {
   "cell_type": "markdown",
   "metadata": {},
   "source": [
    "## PROGRAMMAZIONE AD OGGETTI - Classi"
   ]
  },
  {
   "cell_type": "code",
   "execution_count": null,
   "metadata": {},
   "outputs": [],
   "source": [
    "# posso visualizzare tutti i metodi che sono contenuti nel mio oggetto che creo\n",
    "my_string = 'Corso di laboratorio di programmazione'\n",
    "dir(my_string)\n",
    "# vediamo sotto al cofano\n",
    "my_string.title()"
   ]
  },
  {
   "cell_type": "code",
   "execution_count": null,
   "metadata": {},
   "outputs": [],
   "source": [
    "# la piu piccola classe che posso creare\n",
    "class Persona():\n",
    "    pass\n",
    "\n",
    "person = Persona()\n",
    "print(person) # mi dice solo il punto nella memoria nel pc"
   ]
  },
  {
   "cell_type": "code",
   "execution_count": null,
   "metadata": {},
   "outputs": [],
   "source": [
    "# come si costrusce veramente\n",
    "class Persona():\n",
    "\n",
    "    def __init__(self, name, surname):\n",
    "        # set name and surname\n",
    "        self.name = name\n",
    "        self.surname = surname\n",
    "\n",
    "#istanzio la persona\n",
    "person = Persona('Erion', 'Islamay')\n",
    "print(person)\n",
    "print(person.name)\n",
    "print(person.surname)\n"
   ]
  },
  {
   "cell_type": "code",
   "execution_count": null,
   "metadata": {},
   "outputs": [],
   "source": [
    "# oppure ancora meglio\n",
    "import random\n",
    "\n",
    "\n",
    "class Persona():\n",
    "    \n",
    "    # costruttore della classe\n",
    "    def __init__(self, name, surname):\n",
    "        # set name and surname\n",
    "        self.name = name\n",
    "        self.surname = surname\n",
    "    \n",
    "    # modulo interno per presentare meglio le cose come una stringa quando faccio print\n",
    "    def __str__(self):\n",
    "        return 'Person \"{} {}\"'. format(self.name, self.surname)\n",
    "    \n",
    "    # modulo che abbiamo creato  per salutare  \n",
    "    def say_hy(self):\n",
    "        # genero un numero random da 0 a 2\n",
    "        random_number = random.randint(0,2)\n",
    "\n",
    "        if random_number == 0:\n",
    "            print('Hello, I am {} {}.'.format(self.name,self.surname))\n",
    "        elif random_number == 1:\n",
    "            print('Hello, I am {}.'.format(self.name))\n",
    "        elif random_number == 2:\n",
    "            print('Yo bro! {} here.'.format(self.name))\n",
    "   \n",
    "#istanzio la persona\n",
    "person = Persona('Erion', 'Islamay')\n",
    "print(person)\n",
    "person.say_hy()\n"
   ]
  },
  {
   "cell_type": "markdown",
   "metadata": {},
   "source": [
    "### Estendere una classe"
   ]
  },
  {
   "cell_type": "code",
   "execution_count": null,
   "metadata": {},
   "outputs": [],
   "source": [
    "#creo una SOTTOCLASSE studente\n",
    "from math import prod\n",
    "\n",
    "\n",
    "class Student(Persona):\n",
    "\n",
    "    def __str__(self):\n",
    "        return 'Studente \"{} {}\"'.format(self.name, self.surname)\n",
    "\n",
    "# creo stottoclasse PROFESSORE\n",
    "class Professore(Persona):\n",
    "\n",
    "    def __str__(self):\n",
    "        return 'Prof. \"{} {}\"'.format(self.name,self.surname)\n",
    "\n",
    "    #sovvrascrivo il metodo che saluta dell'oggetto persona, per avere un saluto diverso per il prof!\n",
    "    def say_hy(self):\n",
    "        print('Hello, I am Professor {} {}'.format(self.name,self.surname))\n",
    "\n",
    "    #posso anche mantenere quello originale con la funzione super()\n",
    "    def original_say_hi(self):\n",
    "        super().say_hy()\n",
    "\n",
    "studente = Student('Erion','Islamay')\n",
    "prof = Professore('Zio','Paperone')\n",
    "print(studente)\n",
    "print(prof)\n",
    "studente.say_hy()\n",
    "prof.say_hy()\n",
    "prof.original_say_hi()"
   ]
  },
  {
   "cell_type": "code",
   "execution_count": null,
   "metadata": {},
   "outputs": [],
   "source": [
    "class Model(object):\n",
    "\n",
    "    def fit(self,data):\n",
    "        pass\n",
    "    def predict(self):\n",
    "        pass"
   ]
  },
  {
   "cell_type": "code",
   "execution_count": null,
   "metadata": {},
   "outputs": [],
   "source": []
  }
 ],
 "metadata": {
  "kernelspec": {
   "display_name": "Python 3.10.0 64-bit",
   "language": "python",
   "name": "python3"
  },
  "language_info": {
   "codemirror_mode": {
    "name": "ipython",
    "version": 3
   },
   "file_extension": ".py",
   "mimetype": "text/x-python",
   "name": "python",
   "nbconvert_exporter": "python",
   "pygments_lexer": "ipython3",
   "version": "3.10.0"
  },
  "orig_nbformat": 4,
  "vscode": {
   "interpreter": {
    "hash": "aee8b7b246df8f9039afb4144a1f6fd8d2ca17a180786b69acc140d282b71a49"
   }
  }
 },
 "nbformat": 4,
 "nbformat_minor": 2
}
