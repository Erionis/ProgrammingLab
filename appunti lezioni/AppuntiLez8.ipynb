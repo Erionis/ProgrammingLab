{
 "cells": [
  {
   "cell_type": "markdown",
   "metadata": {},
   "source": [
    "## creiamo un MODELLO"
   ]
  },
  {
   "cell_type": "code",
   "execution_count": 9,
   "metadata": {},
   "outputs": [],
   "source": [
    " \n",
    "\n",
    "class Model():\n",
    "\n",
    "    def fit(self, data):\n",
    "        pass\n",
    "    \n",
    "    def predict(self, data):\n",
    "        pass"
   ]
  },
  {
   "cell_type": "code",
   "execution_count": 2,
   "metadata": {},
   "outputs": [],
   "source": [
    "class IncrementModel(Model):\n",
    "    # do una stringa al modello\n",
    "    def __str__(self):\n",
    "        return 'IncrementModel'\n",
    "\n",
    "    #funzione per calcolarmi l'incremento medio tra due dati\n",
    "    def compute_avg_increment(self, data):\n",
    "        # Variabile di supporto per il valore precedente\n",
    "        prev_item = None\n",
    "\n",
    "        # Preparo una variabile di supporto per calcolare l'incremento medio\n",
    "        increments = 0\n",
    "        \n",
    "        # Processo i mesi in input su cui fare la predizione\n",
    "        for item in data:\n",
    "\n",
    "            # Caloclo l'incremento ma non se sono al primo\n",
    "            # giro ovvero se non e' definito il \"prev_item\"\n",
    "            if prev_item is not None:\n",
    "                increments += item - prev_item\n",
    "\n",
    "            # Assegno questo valore come precedente\n",
    "            prev_item = item\n",
    "\n",
    "        # Calcolo l'incremento medio divivendo la somma degli incrmenti sul totale dei dati (meno uno)\n",
    "        avg_increment = increments / (len(data)-1)\n",
    "        \n",
    "        return avg_increment\n",
    "\n",
    "    def predict(self, predict_data):\n",
    "        \n",
    "        #Calcolo l'incremento medio sui dati della predict\n",
    "        avg_increment = self.compute_avg_increment(predict_data)\n",
    "\n",
    "        # Torno la predizione (incremento medio sommato all'ultimo valore)\n",
    "        return predict_data[-1] + avg_increment"
   ]
  },
  {
   "cell_type": "code",
   "execution_count": 3,
   "metadata": {},
   "outputs": [],
   "source": [
    "class FitIncrementModel(IncrementModel):\n",
    "\n",
    "    def __str__(self):\n",
    "        return 'FitIncrementModel'\n",
    "\n",
    "    def fit(self, fit_data):\n",
    "\n",
    "        # Calcolo l'incremento medio sui dati di fit\n",
    "        self.global_avg_increment = self.compute_avg_increment(fit_data)\n",
    "\n",
    "    def predict(self, predict_data):\n",
    "        \n",
    "        # Chiamo la predict della classe genitore \"IncrementModel\"\n",
    "        parent_prediction = super().predict(predict_data)\n",
    "\n",
    "        # Sottraggo l'ultimo valore alla predizione del genitore\n",
    "        # cosi' da avre l'incremento \"originale\"\n",
    "        parent_predict_increment = parent_prediction - predict_data[-1]\n",
    "\n",
    "        # Ora medio l'incremento del fit con quello della predict\n",
    "        prediction_increment = (self.global_avg_increment + parent_predict_increment) / 2\n",
    "\n",
    "        # E lo ri-sommo all'ultimo elemento\n",
    "        prediction = predict_data[-1] + prediction_increment\n",
    "\n",
    "        return prediction"
   ]
  },
  {
   "cell_type": "code",
   "execution_count": 4,
   "metadata": {},
   "outputs": [
    {
     "name": "stdout",
     "output_type": "stream",
     "text": [
      "IncrementModel test passed\n"
     ]
    }
   ],
   "source": [
    "#=========================================#\n",
    "#        Corpo del programma              #\n",
    "#=========================================#\n",
    "\n",
    "# Mini-dataset di test\n",
    "test_fit_data = [8,19,31,41]\n",
    "test_predict_data = [50,52,60]\n",
    "\n",
    "# Test rapido su IncrementModel (non unit test in questo caso)\n",
    "increment_model = IncrementModel()\n",
    "prediction = increment_model.predict(test_predict_data) \n",
    "if not prediction == 65:\n",
    "    raise Exception('IncrementModel sul dataset di test non mi torna 65 ma \"{}\"'.format(prediction))\n",
    "else:\n",
    "    print('IncrementModel test passed')"
   ]
  },
  {
   "cell_type": "code",
   "execution_count": 5,
   "metadata": {},
   "outputs": [
    {
     "name": "stdout",
     "output_type": "stream",
     "text": [
      "FitIncrementModel test passed\n",
      "\n"
     ]
    }
   ],
   "source": [
    "# Test rapido su FitIncrementModel (non unit test in questo caso)\n",
    "fit_increment_model = FitIncrementModel()\n",
    "fit_increment_model.fit(test_fit_data)\n",
    "prediction = fit_increment_model.predict(test_predict_data)\n",
    "if not prediction == 68:\n",
    "    raise Exception('FitIncrementModel sul dataset di test non mi torna 68 ma \"{}\"'.format(prediction))\n",
    "else:\n",
    "    print('FitIncrementModel test passed')\n",
    "\n",
    "# Linea vuota\n",
    "print('')"
   ]
  },
  {
   "cell_type": "code",
   "execution_count": 6,
   "metadata": {},
   "outputs": [],
   "source": [
    "# I dati delle mie vendite di shampoo. In questo caso le sto direttamente scrivendo nel codice,\n",
    "# ma nella realta' avrei usato l'oggetto CSVFile e caricato i dati dal file. Ma cosi' evito di\n",
    "# avere troppe cose su cui sto lavorando assieme, e visto che i dati sono piccoli, posso farlo\n",
    "# ed e' comodo (se avevo migliaia di valori forse era meglio di no).\n",
    "shampoo_sales = [266.0, 145.9, 183.1, 119.3, 180.3, 168.5, 231.8, 224.5, 192.8, 122.9, 336.5, 185.9, 194.3, 149.5, 210.1, 273.3, 191.4, 287.0, 226.0, 303.6, 289.9, 421.6, 264.5, 342.3, 339.7, 440.4, 315.9, 439.3, 401.3, 437.4, 575.5, 407.6, 682.0, 475.3, 581.3, 646.9]\n",
    "\n",
    "# Definiscxo quanti mesi usare per la valutazione\n",
    "# che verranno sottratti al dataset nel caso del fit\n",
    "eval_months = 12\n",
    "cutoff_month = len(shampoo_sales) - eval_months\n",
    "\n",
    "# Istanzio nuovo modello senza fit\n",
    "increment_model = IncrementModel()\n",
    "\n",
    "# Istanzio nuovo modello con fit\n",
    "fit_increment_model = FitIncrementModel()\n",
    "# Fitto sui dati fino al mese di cutoff\n",
    "fit_increment_model.fit(shampoo_sales[0:cutoff_month])"
   ]
  },
  {
   "cell_type": "code",
   "execution_count": 7,
   "metadata": {},
   "outputs": [
    {
     "name": "stdout",
     "output_type": "stream",
     "text": [
      "Evaluating model \"IncrementModel\"\n",
      "\"251\" (pred) vs \"339\" (real)\n",
      "\"302\" (pred) vs \"440\" (real)\n",
      "\"377\" (pred) vs \"315\" (real)\n",
      "\"489\" (pred) vs \"439\" (real)\n",
      "\"304\" (pred) vs \"401\" (real)\n",
      "\"438\" (pred) vs \"437\" (real)\n",
      "\"444\" (pred) vs \"575\" (real)\n",
      "\"436\" (pred) vs \"407\" (real)\n",
      "\"662\" (pred) vs \"682\" (real)\n",
      "\"392\" (pred) vs \"475\" (real)\n",
      "\"735\" (pred) vs \"581\" (real)\n",
      "\"509\" (pred) vs \"646\" (real)\n",
      "Average error: \"82.49166666666666\"\n",
      "\n",
      "Evaluating model \"FitIncrementModel\"\n",
      "\"259\" (pred) vs \"339\" (real)\n",
      "\"324\" (pred) vs \"440\" (real)\n",
      "\"360\" (pred) vs \"315\" (real)\n",
      "\"466\" (pred) vs \"439\" (real)\n",
      "\"311\" (pred) vs \"401\" (real)\n",
      "\"440\" (pred) vs \"437\" (real)\n",
      "\"424\" (pred) vs \"575\" (real)\n",
      "\"438\" (pred) vs \"407\" (real)\n",
      "\"620\" (pred) vs \"682\" (real)\n",
      "\"401\" (pred) vs \"475\" (real)\n",
      "\"710\" (pred) vs \"581\" (real)\n",
      "\"493\" (pred) vs \"646\" (real)\n",
      "Average error: \"79.96938405797101\"\n",
      "\n"
     ]
    }
   ],
   "source": [
    "# Metto entrambi i modelli in una lista\n",
    "models = [increment_model, fit_increment_model]\n",
    "\n",
    "# Swicth per il plot (se messo a True bisogna chiudere la finestra del plot \n",
    "# per far proseguire il programma dopo la valutazione del primo modello)\n",
    "plot = False\n",
    "\n",
    "# Valuto entrambi i modelli\n",
    "for model in models:\n",
    "\n",
    "    error = 0\n",
    "    print('Evaluating model \"{}\"'.format(model))\n",
    "\n",
    "    # Predizioni sul dataset di \"valutazione\" ovvero le vendite\n",
    "    # dello shampoo dal mese di cutoff in poi\n",
    "    predictions = []\n",
    "    for i in range(eval_months):\n",
    "        predict_data = shampoo_sales[cutoff_month+i-3-1:cutoff_month+i-1]\n",
    "        prediction = model.predict(predict_data)\n",
    "        real = shampoo_sales[cutoff_month+i]\n",
    "        print('\"{}\" (pred) vs \"{}\" (real)'.format(int(prediction), int(real)))\n",
    "\n",
    "        # Aggiungo se volessi poi plottare\n",
    "        predictions.append(prediction)\n",
    "\n",
    "        error += abs(prediction - shampoo_sales[cutoff_month+i])\n",
    "    \n",
    "    error = error / eval_months\n",
    "\n",
    "    print('Average error: \"{}\"\\n'.format(error))\n",
    "\n",
    "    # Plotto se richiesto\n",
    "    if plot:\n",
    "        from matplotlib import  pyplot\n",
    "        pyplot.plot(shampoo_sales[0:cutoff_month] + predictions, color='tab:red')\n",
    "        pyplot.plot(shampoo_sales, color='tab:blue')\n",
    "        pyplot.show()"
   ]
  }
 ],
 "metadata": {
  "kernelspec": {
   "display_name": "Python 3.10.0 64-bit",
   "language": "python",
   "name": "python3"
  },
  "language_info": {
   "codemirror_mode": {
    "name": "ipython",
    "version": 3
   },
   "file_extension": ".py",
   "mimetype": "text/x-python",
   "name": "python",
   "nbconvert_exporter": "python",
   "pygments_lexer": "ipython3",
   "version": "3.10.0"
  },
  "orig_nbformat": 4,
  "vscode": {
   "interpreter": {
    "hash": "aee8b7b246df8f9039afb4144a1f6fd8d2ca17a180786b69acc140d282b71a49"
   }
  }
 },
 "nbformat": 4,
 "nbformat_minor": 2
}
