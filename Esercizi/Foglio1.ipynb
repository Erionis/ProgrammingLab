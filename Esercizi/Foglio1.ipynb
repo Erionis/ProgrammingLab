{
 "cells": [
  {
   "cell_type": "markdown",
   "metadata": {},
   "source": [
    "## Esercizio 1"
   ]
  },
  {
   "cell_type": "code",
   "execution_count": 7,
   "metadata": {},
   "outputs": [
    {
     "name": "stdout",
     "output_type": "stream",
     "text": [
      "lista: [1, 2, 3, 4]\n"
     ]
    }
   ],
   "source": [
    "# funzione che stampa il contenuto di una lista\n",
    "def stampa(lista):\n",
    "    print('lista:', lista)\n",
    "\n",
    "mia_lista = [1,2,3,4]\n",
    "stampa(mia_lista)"
   ]
  },
  {
   "cell_type": "code",
   "execution_count": 11,
   "metadata": {},
   "outputs": [
    {
     "name": "stdout",
     "output_type": "stream",
     "text": [
      "Errore\n"
     ]
    },
    {
     "ename": "TypeError",
     "evalue": "unsupported operand type(s) for +: 'int' and 'str'",
     "output_type": "error",
     "traceback": [
      "\u001b[0;31m---------------------------------------------------------------------------\u001b[0m",
      "\u001b[0;31mTypeError\u001b[0m                                 Traceback (most recent call last)",
      "\u001b[1;32m/Users/erionislamay/Desktop/Lab programmazione/ProgrammingLab/Esercizi/Foglio1.ipynb Cella 3\u001b[0m in \u001b[0;36m<cell line: 20>\u001b[0;34m()\u001b[0m\n\u001b[1;32m     <a href='vscode-notebook-cell:/Users/erionislamay/Desktop/Lab%20programmazione/ProgrammingLab/Esercizi/Foglio1.ipynb#ch0000003?line=14'>15</a>\u001b[0m     risultati \u001b[39m=\u001b[39m [\u001b[39msum\u001b[39m(lista), mean(lista),\n\u001b[1;32m     <a href='vscode-notebook-cell:/Users/erionislamay/Desktop/Lab%20programmazione/ProgrammingLab/Esercizi/Foglio1.ipynb#ch0000003?line=15'>16</a>\u001b[0m                  \u001b[39mmin\u001b[39m(lista), \u001b[39mmax\u001b[39m(lista)]\n\u001b[1;32m     <a href='vscode-notebook-cell:/Users/erionislamay/Desktop/Lab%20programmazione/ProgrammingLab/Esercizi/Foglio1.ipynb#ch0000003?line=17'>18</a>\u001b[0m     \u001b[39mreturn\u001b[39;00m risultati\n\u001b[0;32m---> <a href='vscode-notebook-cell:/Users/erionislamay/Desktop/Lab%20programmazione/ProgrammingLab/Esercizi/Foglio1.ipynb#ch0000003?line=19'>20</a>\u001b[0m \u001b[39mprint\u001b[39m(statistiche([\u001b[39m1\u001b[39;49m,\u001b[39m2\u001b[39;49m,\u001b[39m4\u001b[39;49m,\u001b[39m'\u001b[39;49m\u001b[39mciao\u001b[39;49m\u001b[39m'\u001b[39;49m]))\n",
      "\u001b[1;32m/Users/erionislamay/Desktop/Lab programmazione/ProgrammingLab/Esercizi/Foglio1.ipynb Cella 3\u001b[0m in \u001b[0;36mstatistiche\u001b[0;34m(lista)\u001b[0m\n\u001b[1;32m     <a href='vscode-notebook-cell:/Users/erionislamay/Desktop/Lab%20programmazione/ProgrammingLab/Esercizi/Foglio1.ipynb#ch0000003?line=11'>12</a>\u001b[0m     \u001b[39melse\u001b[39;00m:\n\u001b[1;32m     <a href='vscode-notebook-cell:/Users/erionislamay/Desktop/Lab%20programmazione/ProgrammingLab/Esercizi/Foglio1.ipynb#ch0000003?line=12'>13</a>\u001b[0m         \u001b[39mcontinue\u001b[39;00m\n\u001b[0;32m---> <a href='vscode-notebook-cell:/Users/erionislamay/Desktop/Lab%20programmazione/ProgrammingLab/Esercizi/Foglio1.ipynb#ch0000003?line=14'>15</a>\u001b[0m risultati \u001b[39m=\u001b[39m [\u001b[39msum\u001b[39;49m(lista), mean(lista),\n\u001b[1;32m     <a href='vscode-notebook-cell:/Users/erionislamay/Desktop/Lab%20programmazione/ProgrammingLab/Esercizi/Foglio1.ipynb#ch0000003?line=15'>16</a>\u001b[0m              \u001b[39mmin\u001b[39m(lista), \u001b[39mmax\u001b[39m(lista)]\n\u001b[1;32m     <a href='vscode-notebook-cell:/Users/erionislamay/Desktop/Lab%20programmazione/ProgrammingLab/Esercizi/Foglio1.ipynb#ch0000003?line=17'>18</a>\u001b[0m \u001b[39mreturn\u001b[39;00m risultati\n",
      "\u001b[0;31mTypeError\u001b[0m: unsupported operand type(s) for +: 'int' and 'str'"
     ]
    }
   ],
   "source": [
    "# funzione che riceve una lista e, se è una lista di interi, nedetermina la SOMMA,la MEDIA, il MIN e il MAX\n",
    "\n",
    "from statistics import mean\n",
    "\n",
    "\n",
    "def statistiche(lista):\n",
    "\n",
    "    for element in range(len(lista)):\n",
    "        if type(lista[element]) != int:\n",
    "            print('Errore')\n",
    "            break\n",
    "        else:\n",
    "            continue\n",
    "\n",
    "    risultati = [sum(lista), mean(lista),\n",
    "                 min(lista), max(lista)]\n",
    "\n",
    "    return risultati\n",
    "\n",
    "print(statistiche([1,2,4,'ciao']))"
   ]
  },
  {
   "cell_type": "markdown",
   "metadata": {},
   "source": [
    "### ESERCIZIO 2\n",
    "\n",
    "funzione per estrapolare le date da un csv"
   ]
  },
  {
   "cell_type": "code",
   "execution_count": null,
   "metadata": {},
   "outputs": [],
   "source": [
    "# ESERCIZIO\n",
    "from datetime import datetime\n",
    "\n",
    "def read_csv(file_name):\n",
    "    values = []\n",
    "    # apro e leggo il file linea per linea\n",
    "    my_file = open('shampoo_sales.csv','r')\n",
    "    for line in my_file:\n",
    "        # faccio lo split di ogni riga sulla virgola\n",
    "        elements  = line.split(',')\n",
    "        # Se NON soto processando l'intestazione...\n",
    "        if elements[0] != 'Date':\n",
    "            # setto la data e il valore\n",
    "            my_date = datetime.strptime( elements[0],'%d-%m-%Y')\n",
    "\n",
    "            # aggiungo alla lista dei valori questo valore\n",
    "            values.append(my_date)\n",
    "    return values\n",
    "\n",
    "my_data = read_csv('shampoo_sales.csv')\n",
    "for data in my_data:\n",
    "    print(data.strftime('%d-%m-%Y'))"
   ]
  },
  {
   "cell_type": "markdown",
   "metadata": {},
   "source": [
    "### Esercizio 3\n",
    "\n",
    "Aggiungere moduli alla classe CSVfile"
   ]
  },
  {
   "cell_type": "code",
   "execution_count": 19,
   "metadata": {},
   "outputs": [
    {
     "name": "stdout",
     "output_type": "stream",
     "text": [
      "[[], ['01-01-2012', '266.0\\n'], ['01-02-2012', '145.9\\n'], ['01-03-2012', '183.1\\n'], ['01-04-2012', '119.3\\n'], ['01-05-2012', '180.3\\n'], ['01-06-2012', '168.5\\n'], ['01-07-2012', '231.8\\n'], ['01-08-2012', '224.5\\n'], ['01-09-2012', '192.8\\n'], ['01-10-2012', '122.9\\n'], ['01-11-2012', '336.5\\n'], ['01-12-2012', '185.9\\n'], ['01-01-2013', '194.3\\n'], ['01-02-2013', '149.5\\n'], ['01-03-2013', '210.1\\n'], ['01-04-2013', '273.3\\n'], ['01-05-2013', '191.4\\n'], ['01-06-2013', '287.0\\n'], ['01-07-2013', '226.0\\n'], ['01-08-2013', '303.6\\n'], ['01-09-2013', '289.9\\n'], ['01-10-2013', '421.6\\n'], ['01-11-2013', '264.5\\n'], ['01-12-2013', '342.3\\n'], ['01-01-2014', '339.7\\n'], ['01-02-2014', '440.4\\n'], ['01-03-2014', '315.9\\n'], ['01-04-2014', '439.3\\n'], ['01-05-2014', '401.3\\n'], ['01-06-2014', '437.4\\n'], ['01-07-2014', '575.5\\n'], ['01-08-2014', '407.6\\n'], ['01-09-2014', '682.0\\n'], ['01-10-2014', '475.3\\n'], ['01-11-2014', '581.3\\n'], ['01-12-2014', '646.9\\n']]\n"
     ]
    }
   ],
   "source": [
    "class CSVFile():\n",
    "    ''' Classe che definisce un CSVfile'''\n",
    "\n",
    "    # costruttore della classe\n",
    "    def __init__(self, name):\n",
    "        self.name = name\n",
    "\n",
    "    # metodo che stampa l'header del file\n",
    "    def __str__(self):\n",
    "        my_file = open('shampoo_sales.csv', 'r')\n",
    "        # leggo la prima linea\n",
    "        my_file.readline()\n",
    "\n",
    "    def get_data_vendite(self):\n",
    "        values = []\n",
    "        # apro e leggo il file linea per linea\n",
    "        my_file = open('shampoo_sales.csv','r')\n",
    "        for line in my_file:\n",
    "            # faccio lo split di ogni riga sulla virgola\n",
    "            elements  = line.split(',')\n",
    "            # Se NON soto processando l'intestazione...\n",
    "            if elements[0] != 'Date':\n",
    "                # setto la data e il valore\n",
    "                my_date = datetime.strptime( elements[0],'%d-%m-%Y')\n",
    "\n",
    "                # aggiungo alla lista dei valori questo valore\n",
    "                values.append(my_date)\n",
    "        return values\n",
    "        \n",
    "    def get_data(self):\n",
    "        # inizializzo una lista vuora per salvare i valori\n",
    "        list_of_list = [[]]\n",
    "        # apro e leggo il file linea per linea\n",
    "        my_file = open(self.name,'r')\n",
    "        for line in my_file:\n",
    "            # faccio lo split di ogni riga sulla virgola\n",
    "            elements  = line.split(',')\n",
    "            # Se NON soto processando l'intestazione...\n",
    "            if elements[0] != 'Date':\n",
    "                # setto la data e il valore\n",
    "                date = elements[0]\n",
    "                value = elements[1]\n",
    "                #aggiungo alla lista dei valori questo valore\n",
    "                lists = [date, value]\n",
    "                list_of_list.append(lists)\n",
    "        return list_of_list\n",
    "\n",
    "my_file = CSVFile('shampoo_sales.csv')\n",
    "date_vendite = my_file.get_data_vendite()\n",
    "print(my_file.get_data())"
   ]
  },
  {
   "cell_type": "markdown",
   "metadata": {},
   "source": [
    "### Esercizio 4\n",
    "\n",
    "Classe Automobile"
   ]
  },
  {
   "cell_type": "code",
   "execution_count": 24,
   "metadata": {},
   "outputs": [
    {
     "name": "stdout",
     "output_type": "stream",
     "text": [
      "Diversi\n"
     ]
    }
   ],
   "source": [
    "# implementare una classe Automobile\n",
    "\n",
    "class Automobile():\n",
    "    '''Classe che rappresenta un'automobile'''\n",
    "    \n",
    "    # costruttore della classe\n",
    "    def __init__(self, casa_autonomo, modello, numero_posti, targa):\n",
    "        self.casa_autonomo = casa_autonomo\n",
    "        self.modello = modello\n",
    "        self.numero_posti = numero_posti\n",
    "        self.targa = targa\n",
    "    \n",
    "    def __str__(self):\n",
    "        return 'Automobile: {}, {}, {}, {}'.format(self.casa_autonomo, self.modello, self.numero_posti, self.targa)\n",
    "\n",
    "    def parla(self):\n",
    "        return 'Broom Broom'\n",
    "\n",
    "    def confronta(self, auto):\n",
    "\n",
    "        if self.casa_autonomo == auto.casa_autonomo and\\\n",
    "            self.modello == auto.modello and\\\n",
    "            self.numero_posti == auto.numero_posti and\\\n",
    "            self.targa == auto.targa:\n",
    "            print('Uguali')\n",
    "        else:\n",
    "            print('Diversi')\n",
    "        pass\n",
    "\n",
    "my_car = Automobile('Mercedes','X3',5,'DW505AY')\n",
    "my_car2 = Automobile('Mercedes','X2',5,'DW505AY')\n",
    "my_car.__str__()\n",
    "my_car.parla()\n",
    "my_car.confronta(my_car2)\n",
    "\n"
   ]
  },
  {
   "cell_type": "markdown",
   "metadata": {},
   "source": [
    "### Esercizo 5\n",
    "\n",
    "estendere la classe di sopra"
   ]
  },
  {
   "cell_type": "code",
   "execution_count": null,
   "metadata": {},
   "outputs": [],
   "source": [
    "\n",
    "class Transformer(Automobile):\n",
    "\n",
    "    def __init__(self, casa_autonomo, modello, numero_posti, targa, generazione, grado, reparto):\n",
    "        super().__init__(casa_autonomo, modello, numero_posti, targa)\n",
    "        self.generazione = generazione\n",
    "        self.grado = grado\n",
    "        self.reparto = reparto\n",
    "\n",
    "    def scheda_militare(self):\n",
    "        stampa = '--- Dati transformer---\\n' + \"nome\" +str(self.nome)\n",
    "        pass\n"
   ]
  }
 ],
 "metadata": {
  "kernelspec": {
   "display_name": "Python 3.10.0 64-bit",
   "language": "python",
   "name": "python3"
  },
  "language_info": {
   "codemirror_mode": {
    "name": "ipython",
    "version": 3
   },
   "file_extension": ".py",
   "mimetype": "text/x-python",
   "name": "python",
   "nbconvert_exporter": "python",
   "pygments_lexer": "ipython3",
   "version": "3.10.0"
  },
  "orig_nbformat": 4,
  "vscode": {
   "interpreter": {
    "hash": "aee8b7b246df8f9039afb4144a1f6fd8d2ca17a180786b69acc140d282b71a49"
   }
  }
 },
 "nbformat": 4,
 "nbformat_minor": 2
}
