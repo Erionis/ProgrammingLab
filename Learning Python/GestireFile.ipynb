{
 "cells": [
  {
   "cell_type": "markdown",
   "metadata": {},
   "source": [
    "## GESTIRE i FILE"
   ]
  },
  {
   "cell_type": "code",
   "execution_count": 2,
   "metadata": {},
   "outputs": [],
   "source": [
    "# APRIRE UN FILE (o crearlo)\n",
    "file_divina = open(\"divina_commedia.txt\",'w') # w = modalità scrittura ('r' è in default)"
   ]
  },
  {
   "cell_type": "code",
   "execution_count": 5,
   "metadata": {},
   "outputs": [],
   "source": [
    "# SCRIVERE SU un file\n",
    "divina = ''' Nel mezzo del cammin di nostra vita\n",
    "mi ritrovai per una selva oscura,\n",
    "che la diritta via era smarrita.\n",
    "\n",
    "Ahi quanto a dir qual era è cosa dura,\n",
    "esta selva selvaggia e aspra e forte,\n",
    "che nel pensier rinova la paura!'''\n",
    "\n",
    "for riga in divina.split('\\n'):\n",
    "    file_divina.write(f\"{riga}\\n\")\n"
   ]
  },
  {
   "cell_type": "code",
   "execution_count": 6,
   "metadata": {},
   "outputs": [],
   "source": [
    "# CHIUDERE il file\n",
    "file_divina.close()"
   ]
  },
  {
   "cell_type": "code",
   "execution_count": 8,
   "metadata": {},
   "outputs": [
    {
     "name": "stdout",
     "output_type": "stream",
     "text": [
      " Nel mezzo del cammin di nostra vita\n",
      "mi ritrovai per una selva oscura,\n",
      "che la diritta via era smarrita.\n",
      "\n",
      "Ahi quanto a dir qual era è cosa dura,\n",
      "esta selva selvaggia e aspra e forte,\n",
      "che nel pensier rinova la paura!\n",
      "\n",
      "\n",
      "<class 'str'>\n"
     ]
    }
   ],
   "source": [
    "# LEGGERE un file\n",
    "file_divina = open(\"divina_commedia.txt\",'r') # read\n",
    "contenuto = file_divina.read()\n",
    "file_divina.close()\n",
    "print(contenuto)\n",
    "print(type(contenuto)) # classe di tipo stringa: ottengo solouna stringa"
   ]
  },
  {
   "cell_type": "code",
   "execution_count": 9,
   "metadata": {},
   "outputs": [
    {
     "name": "stdout",
     "output_type": "stream",
     "text": [
      "[' Nel mezzo del cammin di nostra vita\\n', 'mi ritrovai per una selva oscura,\\n', 'che la diritta via era smarrita.\\n', '\\n', 'Ahi quanto a dir qual era è cosa dura,\\n', 'esta selva selvaggia e aspra e forte,\\n', 'che nel pensier rinova la paura!\\n', '\\n']\n",
      "<class 'list'>\n"
     ]
    }
   ],
   "source": [
    "# possimao ottenre una lista delle righe che compongono il file co read.lines\n",
    "file_divina = open(\"divina_commedia.txt\",'r') # read\n",
    "contenuto = file_divina.readlines()\n",
    "file_divina.close()\n",
    "print(contenuto)\n",
    "print(type(contenuto)) # classe di tipo lista!!"
   ]
  },
  {
   "cell_type": "code",
   "execution_count": 11,
   "metadata": {},
   "outputs": [
    {
     "name": "stdout",
     "output_type": "stream",
     "text": [
      " Nel mezzo del cammin di nostra vita\n",
      "\n",
      "mi ritrovai per una selva oscura,\n",
      "\n",
      "che la diritta via era smarrita.\n",
      "\n",
      "\n",
      "\n",
      "Ahi quanto a dir qual era è cosa dura,\n",
      "\n",
      "esta selva selvaggia e aspra e forte,\n",
      "\n",
      "che nel pensier rinova la paura!\n",
      "\n",
      "\n",
      "\n"
     ]
    }
   ],
   "source": [
    "# oppure se necessario, leggere e maneggiare una riga alla volta, con il metodo readline():\n",
    "file_divina = open(\"divina_commedia.txt\",'r') # read\n",
    "while True:\n",
    "    verso = file_divina.readline()\n",
    "    if len(verso) == 0:\n",
    "        break\n",
    "    print(verso)\n",
    "file_divina.close()"
   ]
  },
  {
   "cell_type": "markdown",
   "metadata": {},
   "source": [
    "## Lavorare con file BINARI (immagini, zip, video etc)"
   ]
  },
  {
   "cell_type": "code",
   "execution_count": 13,
   "metadata": {},
   "outputs": [],
   "source": [
    "# creare e scrive un file binario\n",
    "data = [3,6,2,7,1,4,0]\n",
    "bin_file = open(\"filebin.bin\", \"wb\") # creo file binario in scrittura wb\n",
    "byte_data = bytearray(data) # converto in byte i miei dati\n",
    "bin_file.write(byte_data) # ci scrivo i dati\n",
    "bin_file.close()"
   ]
  },
  {
   "cell_type": "code",
   "execution_count": 14,
   "metadata": {},
   "outputs": [
    {
     "name": "stdout",
     "output_type": "stream",
     "text": [
      "b'\\x03\\x06\\x02\\x07\\x01\\x04\\x00'\n",
      "<class 'bytes'>\n"
     ]
    }
   ],
   "source": [
    "# leggeer un file binario\n",
    "bin_file = open(\"filebin.bin\",\"rb\") # apro file binario in lettura\n",
    "contenuto = bin_file.read()\n",
    "bin_file.close()\n",
    "print(contenuto)\n",
    "print(type(contenuto))\n",
    "\n"
   ]
  }
 ],
 "metadata": {
  "kernelspec": {
   "display_name": "Python 3.10.0 64-bit",
   "language": "python",
   "name": "python3"
  },
  "language_info": {
   "codemirror_mode": {
    "name": "ipython",
    "version": 3
   },
   "file_extension": ".py",
   "mimetype": "text/x-python",
   "name": "python",
   "nbconvert_exporter": "python",
   "pygments_lexer": "ipython3",
   "version": "3.10.0"
  },
  "orig_nbformat": 4,
  "vscode": {
   "interpreter": {
    "hash": "aee8b7b246df8f9039afb4144a1f6fd8d2ca17a180786b69acc140d282b71a49"
   }
  }
 },
 "nbformat": 4,
 "nbformat_minor": 2
}
