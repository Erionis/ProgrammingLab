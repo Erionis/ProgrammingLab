{
 "cells": [
  {
   "cell_type": "markdown",
   "metadata": {},
   "source": [
    "### Le LISTE"
   ]
  },
  {
   "cell_type": "code",
   "execution_count": 12,
   "metadata": {},
   "outputs": [],
   "source": [
    "lista_numeri = [7,11,9,17]\n",
    "lista_nomi = ['Ronaldo','Zlatan','Lukaku']\n",
    "lista_mista = [11,'Zlatan',1.95,True]"
   ]
  },
  {
   "cell_type": "markdown",
   "metadata": {},
   "source": [
    "list è un tipo, quindi nulla vieta ad un oggetto di tipo list di essere un elemento di una lista:"
   ]
  },
  {
   "cell_type": "code",
   "execution_count": 13,
   "metadata": {},
   "outputs": [],
   "source": [
    "lista_liste = [11,'Zlatan',[1.95, 95]] # Lista ANNIDATA\n",
    "lista_vuota = []"
   ]
  },
  {
   "cell_type": "code",
   "execution_count": 14,
   "metadata": {},
   "outputs": [
    {
     "data": {
      "text/plain": [
       "['Ronaldo', 'Zlatan', 'Lukaku']"
      ]
     },
     "execution_count": 14,
     "metadata": {},
     "output_type": "execute_result"
    }
   ],
   "source": [
    "lista_nomi = ['Ronaldo','Zlatan','Lukaku','Immobile','Belotti','Dzeko']\n",
    "lista_nomi[1] # ricorda che py parte da 0 i conteggi\n",
    "lista_nomi[0:3] # slice contenente i primi 3 elemnti della lista"
   ]
  },
  {
   "cell_type": "markdown",
   "metadata": {},
   "source": [
    "posso usare una lista come sequenza su cui costruire un loop for:"
   ]
  },
  {
   "cell_type": "code",
   "execution_count": 15,
   "metadata": {},
   "outputs": [
    {
     "name": "stdout",
     "output_type": "stream",
     "text": [
      "Ronaldo\n",
      "Zlatan\n",
      "Lukaku\n",
      "Immobile\n",
      "Belotti\n",
      "Dzeko\n"
     ]
    }
   ],
   "source": [
    "for bomber in lista_nomi:\n",
    "    print(bomber)"
   ]
  },
  {
   "cell_type": "code",
   "execution_count": 18,
   "metadata": {},
   "outputs": [
    {
     "data": {
      "text/plain": [
       "['M', 'A', 'T', 'T', 'A', 'R', 'E', 'L', 'L', 'O']"
      ]
     },
     "execution_count": 18,
     "metadata": {},
     "output_type": "execute_result"
    }
   ],
   "source": [
    "# Per MODIFICARE le liste\n",
    "\n",
    "lista_numeri = [7,11,9,17]\n",
    "lista_numeri[2]= 99  # questa cosa non laposso fare con le stringhe!!\n",
    "lista_numeri\n",
    "\n",
    "lista_lettere = ['P','E','N','N','A','R','E','L','L','O']\n",
    "lista_lettere[0:5] = ['M','A','T','T','A']\n",
    "lista_lettere\n"
   ]
  },
  {
   "cell_type": "code",
   "execution_count": 19,
   "metadata": {},
   "outputs": [
    {
     "data": {
      "text/plain": [
       "['R', 'E', 'L', 'L', 'O']"
      ]
     },
     "execution_count": 19,
     "metadata": {},
     "output_type": "execute_result"
    }
   ],
   "source": [
    "# oppure possiamo anche cancellare elementi di una lista con questo trucco\n",
    "lista_lettere[0:5] = []\n",
    "lista_lettere"
   ]
  },
  {
   "cell_type": "markdown",
   "metadata": {},
   "source": [
    " Operazioni con le LISTE"
   ]
  },
  {
   "cell_type": "code",
   "execution_count": 20,
   "metadata": {},
   "outputs": [
    {
     "data": {
      "text/plain": [
       "['Raffaello', 'Donatello', 'Michelangelo', 'Donatello']"
      ]
     },
     "execution_count": 20,
     "metadata": {},
     "output_type": "execute_result"
    }
   ],
   "source": [
    "# UNIRE 2 liste\n",
    "\n",
    "tartarughe = ['Raffaello','Donatello']\n",
    "nuove_tartarughe = ['Michelangelo', 'Donatello']\n",
    "tartarughe + nuove_tartarughe"
   ]
  },
  {
   "cell_type": "code",
   "execution_count": 21,
   "metadata": {},
   "outputs": [
    {
     "data": {
      "text/plain": [
       "['Raffaello', 'Donatello', 'Raffaello', 'Donatello', 'Raffaello', 'Donatello']"
      ]
     },
     "execution_count": 21,
     "metadata": {},
     "output_type": "execute_result"
    }
   ],
   "source": [
    "# ripetere gli elementi di una lista\n",
    "\n",
    "tartarughe * 3"
   ]
  },
  {
   "cell_type": "code",
   "execution_count": 22,
   "metadata": {},
   "outputs": [
    {
     "data": {
      "text/plain": [
       "['Raffaello', 'Donatello']"
      ]
     },
     "execution_count": 22,
     "metadata": {},
     "output_type": "execute_result"
    }
   ],
   "source": [
    "# Per CANCELLARE posso usare la keyword del che è molto piu comoda\n",
    "tartarughe = ['Raffaello','Donatello','Michelangelo']\n",
    "del tartarughe[2]\n",
    "tartarughe\n"
   ]
  },
  {
   "cell_type": "markdown",
   "metadata": {},
   "source": [
    "anche il tipo list fornisce una serie di metodi e attributi utili, come append() che consente di appendere un elemento in fondo ad una lista."
   ]
  },
  {
   "cell_type": "code",
   "execution_count": 23,
   "metadata": {},
   "outputs": [
    {
     "data": {
      "text/plain": [
       "['Raffaello', 'Donatello', 'Michelangelo', 'Leonardo']"
      ]
     },
     "execution_count": 23,
     "metadata": {},
     "output_type": "execute_result"
    }
   ],
   "source": [
    "tartarughe = ['Raffaello','Donatello','Michelangelo']\n",
    "tartarughe.append('Leonardo')\n",
    "tartarughe"
   ]
  },
  {
   "cell_type": "code",
   "execution_count": 25,
   "metadata": {},
   "outputs": [
    {
     "data": {
      "text/plain": [
       "['Pippo', 'Raffaello', 'Donatello', 'Michelangelo']"
      ]
     },
     "execution_count": 25,
     "metadata": {},
     "output_type": "execute_result"
    }
   ],
   "source": [
    "# INSERT\n",
    "tartarughe = ['Raffaello','Donatello','Michelangelo']\n",
    "tartarughe.insert(0, 'Pippo') # inserisco all'indice 0 Pippo\n",
    "tartarughe\n"
   ]
  },
  {
   "cell_type": "code",
   "execution_count": 26,
   "metadata": {},
   "outputs": [
    {
     "data": {
      "text/plain": [
       "1"
      ]
     },
     "execution_count": 26,
     "metadata": {},
     "output_type": "execute_result"
    }
   ],
   "source": [
    "# COUNT()  per contare quante volte appare un elemento\n",
    "\n",
    "tartarughe = ['Raffaello','Donatello','Michelangelo']\n",
    "tartarughe.count('Raffaello') "
   ]
  },
  {
   "cell_type": "code",
   "execution_count": 28,
   "metadata": {},
   "outputs": [
    {
     "data": {
      "text/plain": [
       "['Raffaello',\n",
       " 'Donatello',\n",
       " 'Michelangelo',\n",
       " 'M',\n",
       " 'a',\n",
       " 'r',\n",
       " 'i',\n",
       " 'o',\n",
       " 'M',\n",
       " 'a',\n",
       " 'r',\n",
       " 'i',\n",
       " 'o']"
      ]
     },
     "execution_count": 28,
     "metadata": {},
     "output_type": "execute_result"
    }
   ],
   "source": [
    "# EXTEND() \n",
    "\n",
    "tartarughe.extend('Mario')\n",
    "tartarughe"
   ]
  },
  {
   "cell_type": "code",
   "execution_count": 29,
   "metadata": {},
   "outputs": [
    {
     "data": {
      "text/plain": [
       "1"
      ]
     },
     "execution_count": 29,
     "metadata": {},
     "output_type": "execute_result"
    }
   ],
   "source": [
    "# INDEX()\n",
    "\n",
    "tartarughe.index('Donatello') # a che indice si trova Donatello?\n",
    "\n",
    "# SORT() per ordinare la lista\n",
    "# REMOVE() per togliere elementi (input metto la stringa)\n"
   ]
  },
  {
   "cell_type": "markdown",
   "metadata": {},
   "source": [
    "### Le TUPLE\n",
    "\n",
    "utilizzate per raggruppare insieme di informazioni in qualche modo correlate fra loro.\n",
    "\n",
    "A differenza delle liste, le tuple sono IMMUTABILI, come per le str, non possimao modificare un'istanza di tipo tuple una volta che è stata creata!\n",
    "\n",
    "Per convenzione si creano con le parentesi (anche se non servirebbero)"
   ]
  },
  {
   "cell_type": "code",
   "execution_count": 34,
   "metadata": {},
   "outputs": [
    {
     "ename": "TypeError",
     "evalue": "'tuple' object does not support item assignment",
     "output_type": "error",
     "traceback": [
      "\u001b[0;31m---------------------------------------------------------------------------\u001b[0m",
      "\u001b[0;31mTypeError\u001b[0m                                 Traceback (most recent call last)",
      "\u001b[1;32m/Users/erionislamay/Desktop/Lab programmazione/ProgrammingLab/Learning Python/test.ipynb Cella 21\u001b[0m in \u001b[0;36m<cell line: 2>\u001b[0;34m()\u001b[0m\n\u001b[1;32m      <a href='vscode-notebook-cell:/Users/erionislamay/Desktop/Lab%20programmazione/ProgrammingLab/Learning%20Python/test.ipynb#ch0000019?line=0'>1</a>\u001b[0m ibra \u001b[39m=\u001b[39m (\u001b[39m'\u001b[39m\u001b[39mZlatan\u001b[39m\u001b[39m'\u001b[39m, \u001b[39m'\u001b[39m\u001b[39mIbrahimovic\u001b[39m\u001b[39m'\u001b[39m, \u001b[39m11\u001b[39m, \u001b[39m'\u001b[39m\u001b[39mMIlan\u001b[39m\u001b[39m'\u001b[39m, \u001b[39m1.95\u001b[39m, \u001b[39m95\u001b[39m, \u001b[39m'\u001b[39m\u001b[39mAttaccante\u001b[39m\u001b[39m'\u001b[39m)\n\u001b[0;32m----> <a href='vscode-notebook-cell:/Users/erionislamay/Desktop/Lab%20programmazione/ProgrammingLab/Learning%20Python/test.ipynb#ch0000019?line=1'>2</a>\u001b[0m ibra[\u001b[39m2\u001b[39;49m] \u001b[39m=\u001b[39m \u001b[39m10\u001b[39m\n",
      "\u001b[0;31mTypeError\u001b[0m: 'tuple' object does not support item assignment"
     ]
    }
   ],
   "source": [
    "ibra = ('Zlatan', 'Ibrahimovic', 11, 'MIlan', 1.95, 95, 'Attaccante')\n",
    "ibra[2] = 10 # non lo posso fare"
   ]
  },
  {
   "cell_type": "markdown",
   "metadata": {},
   "source": [
    "TUPLE ASSIGNMENT ci consente di assegnare una tupla di variabili (lvalue)  a una Tupla di valori (rvalue)"
   ]
  },
  {
   "cell_type": "code",
   "execution_count": 33,
   "metadata": {},
   "outputs": [
    {
     "data": {
      "text/plain": [
       "tuple"
      ]
     },
     "execution_count": 33,
     "metadata": {},
     "output_type": "execute_result"
    }
   ],
   "source": [
    "tupla_test = (11,)\n",
    "type(tupla_test)"
   ]
  },
  {
   "cell_type": "code",
   "execution_count": 35,
   "metadata": {},
   "outputs": [
    {
     "name": "stdout",
     "output_type": "stream",
     "text": [
      "Zlatan Ibrahimovic 11 MIlan 1.95 95 Attaccante\n"
     ]
    }
   ],
   "source": [
    "ibra = ('Zlatan', 'Ibrahimovic', 11, 'MIlan', 1.95, 95, 'Attaccante')  # Tupla di valori\n",
    "(nnome, cognome, numero, squadra, altezza, peso, ruolo) = ibra  # Tupla di variabili\n",
    "\n",
    "print(nnome, cognome, numero, squadra, altezza, peso, ruolo)"
   ]
  },
  {
   "cell_type": "markdown",
   "metadata": {},
   "source": [
    "Le Tuple sono utili perchè ci permettono di ritornare piu cose da una funzione!"
   ]
  },
  {
   "cell_type": "code",
   "execution_count": 36,
   "metadata": {},
   "outputs": [
    {
     "name": "stdout",
     "output_type": "stream",
     "text": [
      "10\n",
      "2\n"
     ]
    }
   ],
   "source": [
    "def add_and_diff(a,b):\n",
    "    sum_result = a + b\n",
    "    diff_result = a - b\n",
    "    tuple_result = (sum_result, diff_result) # creo tupla\n",
    "    return tuple_result\n",
    "\n",
    "(somma, differenza) = add_and_diff(6, 4) # assegno le variabili alla tupla\n",
    "print(somma)\n",
    "print(differenza)"
   ]
  },
  {
   "cell_type": "markdown",
   "metadata": {},
   "source": [
    "## SET\n",
    "\n",
    "un **set** è una collezione di elementi non ordinata. A differenza di liste e tuole, ogni elemento del set deve essere **unico** e **non modificabile**.\n",
    "\n",
    "Tuttavia l'oggetto di tipo set è modficiabile.\n",
    "\n",
    "Un oggetto di tipo set si definisce racchiudendo gli eelemnti che lo compongono tra parentesi graffe {}, separati da , , oppure posso creare la funzione built-in set().\n"
   ]
  },
  {
   "cell_type": "code",
   "execution_count": 37,
   "metadata": {},
   "outputs": [
    {
     "ename": "TypeError",
     "evalue": "'set' object is not subscriptable",
     "output_type": "error",
     "traceback": [
      "\u001b[0;31m---------------------------------------------------------------------------\u001b[0m",
      "\u001b[0;31mTypeError\u001b[0m                                 Traceback (most recent call last)",
      "\u001b[1;32m/Users/erionislamay/Desktop/Lab programmazione/ProgrammingLab/Learning Python/test.ipynb Cella 28\u001b[0m in \u001b[0;36m<cell line: 3>\u001b[0;34m()\u001b[0m\n\u001b[1;32m      <a href='vscode-notebook-cell:/Users/erionislamay/Desktop/Lab%20programmazione/ProgrammingLab/Learning%20Python/test.ipynb#ch0000026?line=0'>1</a>\u001b[0m set_numeri \u001b[39m=\u001b[39m {\u001b[39m7\u001b[39m,\u001b[39m11\u001b[39m,\u001b[39m9\u001b[39m,\u001b[39m17\u001b[39m} \n\u001b[1;32m      <a href='vscode-notebook-cell:/Users/erionislamay/Desktop/Lab%20programmazione/ProgrammingLab/Learning%20Python/test.ipynb#ch0000026?line=1'>2</a>\u001b[0m \u001b[39m# il set è una collezione non ordinata, il che signiica che NON possiamo fare affidamento sull'indicizzazione degli elementi\u001b[39;00m\n\u001b[0;32m----> <a href='vscode-notebook-cell:/Users/erionislamay/Desktop/Lab%20programmazione/ProgrammingLab/Learning%20Python/test.ipynb#ch0000026?line=2'>3</a>\u001b[0m set_numeri[\u001b[39m1\u001b[39;49m]\n",
      "\u001b[0;31mTypeError\u001b[0m: 'set' object is not subscriptable"
     ]
    }
   ],
   "source": [
    "set_numeri = {7,11,9,17} # Ogni elemento deve esssere UNICO e NON MODIFICABILE\n",
    "# il set è una collezione non ordinata, il che signiica che NON possiamo fare affidamento sull'indicizzazione degli elementi\n",
    "set_numeri[1]  # NON funziona!!"
   ]
  },
  {
   "cell_type": "markdown",
   "metadata": {},
   "source": [
    "possiamo usare i metodi add(), update(), discard(), remove() per aggiungere e rimuovere elementi."
   ]
  },
  {
   "cell_type": "code",
   "execution_count": 41,
   "metadata": {},
   "outputs": [
    {
     "name": "stdout",
     "output_type": "stream",
     "text": [
      "{9, 11, 7}\n",
      "{9, 11, 17, 7}\n"
     ]
    }
   ],
   "source": [
    "# ADD()\n",
    "\n",
    "set_numeri = {7,11,9}\n",
    "print(set_numeri)\n",
    "set_numeri.add(17)  # con add posso aggiungere 1 elemnto\n",
    "print(set_numeri)\n"
   ]
  },
  {
   "cell_type": "code",
   "execution_count": 42,
   "metadata": {},
   "outputs": [
    {
     "name": "stdout",
     "output_type": "stream",
     "text": [
      "{99, 7, 9, 11, 17, 90}\n"
     ]
    }
   ],
   "source": [
    "# UPDATE()\n",
    "set_numeri.update([90, 99, 99]) # posso aggiungere piu elemente, obv toglie quelli che si ripetono!\n",
    "print(set_numeri)"
   ]
  },
  {
   "cell_type": "code",
   "execution_count": 43,
   "metadata": {},
   "outputs": [
    {
     "name": "stdout",
     "output_type": "stream",
     "text": [
      "{7, 9, 11, 17, 90}\n"
     ]
    }
   ],
   "source": [
    "# DISCARD e REMOVE fanno la stessa cosa\n",
    "set_numeri.remove(99)\n",
    "print(set_numeri)\n",
    "# la differenza sta che con discard se vuoi rimuovere un elemento che NOn c'è NON ti dà errore mentre remove ti da errore!"
   ]
  },
  {
   "cell_type": "markdown",
   "metadata": {},
   "source": [
    "i set si rivelano molto utili nell'effetuare operazionie matematiche su INSIEMI: UNONE, INTERSEZIONE, DIFFERENZA è DIFFERENZA SIMMETRICA"
   ]
  },
  {
   "cell_type": "code",
   "execution_count": 44,
   "metadata": {},
   "outputs": [
    {
     "data": {
      "text/plain": [
       "{1, 2, 3, 4, 5, 6, 7, 8}"
      ]
     },
     "execution_count": 44,
     "metadata": {},
     "output_type": "execute_result"
    }
   ],
   "source": [
    "A = {1,2,3,4,5}\n",
    "B = {4,5,6,7,8}\n",
    "\n",
    "# UNIONE\n",
    "A | B"
   ]
  },
  {
   "cell_type": "code",
   "execution_count": 46,
   "metadata": {},
   "outputs": [
    {
     "data": {
      "text/plain": [
       "{4, 5}"
      ]
     },
     "execution_count": 46,
     "metadata": {},
     "output_type": "execute_result"
    }
   ],
   "source": [
    "# INTERSEZIONE \n",
    "A & B"
   ]
  },
  {
   "cell_type": "code",
   "execution_count": 47,
   "metadata": {},
   "outputs": [
    {
     "data": {
      "text/plain": [
       "{1, 2, 3}"
      ]
     },
     "execution_count": 47,
     "metadata": {},
     "output_type": "execute_result"
    }
   ],
   "source": [
    "# DIFFERENZA\n",
    "A - B"
   ]
  },
  {
   "cell_type": "code",
   "execution_count": 48,
   "metadata": {},
   "outputs": [
    {
     "data": {
      "text/plain": [
       "{1, 2, 3, 6, 7, 8}"
      ]
     },
     "execution_count": 48,
     "metadata": {},
     "output_type": "execute_result"
    }
   ],
   "source": [
    "# DIFFERENZA SIMMETRICA\n",
    "A ^ B"
   ]
  },
  {
   "cell_type": "markdown",
   "metadata": {},
   "source": [
    "## I DIZIONARI\n",
    "\n",
    "Finora escludendo i SET, abbiamo sempre parlato di ***sequenze***: tipi composti che permettono di accedere ai singoli elementi che li compongono tramite indici interi.\n",
    "\n",
    "I dizionari rappresentano un TIPO COMPOSTO. Non fa altro che mappare una serie di CHIAVI (Solitamente stringhe) ai relativi VALORI (qualcunque tipo).\n",
    "\n",
    "Quindi ogni elemento è una coppia CHIAVE-VALORE:"
   ]
  },
  {
   "cell_type": "code",
   "execution_count": 2,
   "metadata": {},
   "outputs": [],
   "source": [
    "inventario = {'banane': 7, 'lamponi': 11}"
   ]
  },
  {
   "cell_type": "markdown",
   "metadata": {},
   "source": [
    "Accediamo ai valori quindi NON per indice ma per CHIAVE!"
   ]
  },
  {
   "cell_type": "code",
   "execution_count": 3,
   "metadata": {},
   "outputs": [
    {
     "data": {
      "text/plain": [
       "7"
      ]
     },
     "execution_count": 3,
     "metadata": {},
     "output_type": "execute_result"
    }
   ],
   "source": [
    "inventario['banane']"
   ]
  },
  {
   "cell_type": "code",
   "execution_count": 4,
   "metadata": {},
   "outputs": [
    {
     "name": "stdout",
     "output_type": "stream",
     "text": [
      "{'banane': 7, 'lamponi': 11, 'mele': 12}\n"
     ]
    }
   ],
   "source": [
    "# posso aggiungere cose:\n",
    "inventario['mele']= 12\n",
    "print(inventario)"
   ]
  },
  {
   "cell_type": "code",
   "execution_count": 5,
   "metadata": {},
   "outputs": [
    {
     "name": "stdout",
     "output_type": "stream",
     "text": [
      "{'banane': 14, 'lamponi': 'esaurito', 'mele': 12}\n"
     ]
    }
   ],
   "source": [
    "#posso anche riassegnare un nuovo valore a una chiave gia essistente:\n",
    "inventario['banane']= 14\n",
    "inventario['lamponi']= 'esaurito'\n",
    "print(inventario)\n"
   ]
  },
  {
   "cell_type": "markdown",
   "metadata": {},
   "source": [
    "Anche il tipo **Dict** ha i suoi metodi e attributi. un metodo indispensabile è keys()"
   ]
  },
  {
   "cell_type": "code",
   "execution_count": 6,
   "metadata": {},
   "outputs": [
    {
     "data": {
      "text/plain": [
       "dict_keys(['banane', 'lamponi', 'mele'])"
      ]
     },
     "execution_count": 6,
     "metadata": {},
     "output_type": "execute_result"
    }
   ],
   "source": [
    "inventario.keys() # ottengo un oggetto di tipo view che mi mostra quali sono le chiavi, e possimao usarlo nei LOOP!!!!!"
   ]
  },
  {
   "cell_type": "markdown",
   "metadata": {},
   "source": [
    "## LIST comprehension, SET comprehension e DICT comprehension\n",
    "\n",
    "Python fornisce una sintassi compatta per generare liste, set e dizionari a partire da sequenze di valori:\n",
    "\n",
    "ad esempio per costruire   \n",
    "\n",
    "lista_numeri = [0,1,2,3,4,5,6,7,8,9] \n",
    "\n",
    "si può fare:"
   ]
  },
  {
   "cell_type": "code",
   "execution_count": 7,
   "metadata": {},
   "outputs": [
    {
     "name": "stdout",
     "output_type": "stream",
     "text": [
      "[0, 1, 2, 3, 4, 5, 6, 7, 8, 9]\n"
     ]
    }
   ],
   "source": [
    "lista_numeri = []\n",
    "for i in range(10):\n",
    "    lista_numeri.append(i)\n",
    "print(lista_numeri)"
   ]
  },
  {
   "cell_type": "markdown",
   "metadata": {},
   "source": [
    "o ancora meglio con le list comprehension:"
   ]
  },
  {
   "cell_type": "code",
   "execution_count": 8,
   "metadata": {},
   "outputs": [
    {
     "name": "stdout",
     "output_type": "stream",
     "text": [
      "[0, 1, 2, 3, 4, 5, 6, 7, 8, 9]\n"
     ]
    }
   ],
   "source": [
    "lista_numeri = [ i for i in range(10)]\n",
    "print(lista_numeri)"
   ]
  },
  {
   "cell_type": "code",
   "execution_count": 10,
   "metadata": {},
   "outputs": [
    {
     "data": {
      "text/plain": [
       "{0, 1, 2, 3, 4, 5, 6, 7, 8, 9}"
      ]
     },
     "execution_count": 10,
     "metadata": {},
     "output_type": "execute_result"
    }
   ],
   "source": [
    "# set comprehension\n",
    "set_numeri = { i for i in range(10)}\n",
    "set_numeri\n"
   ]
  },
  {
   "cell_type": "code",
   "execution_count": 11,
   "metadata": {},
   "outputs": [
    {
     "data": {
      "text/plain": [
       "{0: 0, 1: 1, 2: 4, 3: 9, 4: 16, 5: 25, 6: 36, 7: 49, 8: 64, 9: 81}"
      ]
     },
     "execution_count": 11,
     "metadata": {},
     "output_type": "execute_result"
    }
   ],
   "source": [
    "# dict comprehension\n",
    "dict_numeri = { i: i*i for i in range(10)}\n",
    "dict_numeri"
   ]
  },
  {
   "cell_type": "markdown",
   "metadata": {},
   "source": [
    "ATTENZIONE: la tuple comprehension NON ESISTE.\n",
    "\n",
    "Un oggeto del tipo ( i for i in range(10)) si chiama GENERATOR ed è un'altra cosa"
   ]
  }
 ],
 "metadata": {
  "kernelspec": {
   "display_name": "Python 3.10.0 64-bit",
   "language": "python",
   "name": "python3"
  },
  "language_info": {
   "codemirror_mode": {
    "name": "ipython",
    "version": 3
   },
   "file_extension": ".py",
   "mimetype": "text/x-python",
   "name": "python",
   "nbconvert_exporter": "python",
   "pygments_lexer": "ipython3",
   "version": "3.10.0"
  },
  "orig_nbformat": 4,
  "vscode": {
   "interpreter": {
    "hash": "aee8b7b246df8f9039afb4144a1f6fd8d2ca17a180786b69acc140d282b71a49"
   }
  }
 },
 "nbformat": 4,
 "nbformat_minor": 2
}
