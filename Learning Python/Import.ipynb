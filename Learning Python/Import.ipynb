{
 "cells": [
  {
   "cell_type": "markdown",
   "metadata": {},
   "source": [
    "## IMPORT\n",
    "\n",
    "Import serve a importare Moduli (singolo file .py) o pacchetti ( insieme di file .py).\n",
    "\n",
    "Il modulo ch eimportiamo deve esistere nel sistema in cui stiamo lavorando"
   ]
  },
  {
   "cell_type": "code",
   "execution_count": 24,
   "metadata": {},
   "outputs": [
    {
     "ename": "NameError",
     "evalue": "name 'Turtle' is not defined",
     "output_type": "error",
     "traceback": [
      "\u001b[0;31m---------------------------------------------------------------------------\u001b[0m",
      "\u001b[0;31mNameError\u001b[0m                                 Traceback (most recent call last)",
      "\u001b[1;32m/Users/erionislamay/Desktop/Lab programmazione/ProgrammingLab/Learning Python/Import.ipynb Cella 2\u001b[0m in \u001b[0;36m<cell line: 4>\u001b[0;34m()\u001b[0m\n\u001b[1;32m      <a href='vscode-notebook-cell:/Users/erionislamay/Desktop/Lab%20programmazione/ProgrammingLab/Learning%20Python/Import.ipynb#ch0000000?line=0'>1</a>\u001b[0m \u001b[39mimport\u001b[39;00m \u001b[39mturtle\u001b[39;00m  \u001b[39m# importo il modulo turtle che sta fuori da qui\u001b[39;00m\n\u001b[1;32m      <a href='vscode-notebook-cell:/Users/erionislamay/Desktop/Lab%20programmazione/ProgrammingLab/Learning%20Python/Import.ipynb#ch0000000?line=2'>3</a>\u001b[0m \u001b[39m# se faccio questo non funziona\u001b[39;00m\n\u001b[0;32m----> <a href='vscode-notebook-cell:/Users/erionislamay/Desktop/Lab%20programmazione/ProgrammingLab/Learning%20Python/Import.ipynb#ch0000000?line=3'>4</a>\u001b[0m donatello \u001b[39m=\u001b[39m Turtle()\n",
      "\u001b[0;31mNameError\u001b[0m: name 'Turtle' is not defined"
     ]
    }
   ],
   "source": [
    "import turtle  # importo il modulo turtle che sta fuori da qui\n",
    "\n",
    "# se faccio questo non funziona\n",
    "donatello = Turtle()"
   ]
  },
  {
   "cell_type": "code",
   "execution_count": null,
   "metadata": {},
   "outputs": [],
   "source": [
    "# devo fare cosi\n",
    "import turtle as t\n",
    "\n",
    "raffaello = t.Turtle()"
   ]
  },
  {
   "cell_type": "code",
   "execution_count": null,
   "metadata": {},
   "outputs": [
    {
     "ename": "TypeError",
     "evalue": "'module' object is not callable",
     "output_type": "error",
     "traceback": [
      "\u001b[0;31m---------------------------------------------------------------------------\u001b[0m",
      "\u001b[0;31mTypeError\u001b[0m                                 Traceback (most recent call last)",
      "\u001b[1;32m/Users/erionislamay/Desktop/Lab programmazione/ProgrammingLab/Learning Python/Import.ipynb Cella 4\u001b[0m in \u001b[0;36m<cell line: 3>\u001b[0;34m()\u001b[0m\n\u001b[1;32m      <a href='vscode-notebook-cell:/Users/erionislamay/Desktop/Lab%20programmazione/ProgrammingLab/Learning%20Python/Import.ipynb#ch0000003?line=0'>1</a>\u001b[0m \u001b[39m# oppure importare singole classi/funzioni all'interno del modulo\u001b[39;00m\n\u001b[1;32m      <a href='vscode-notebook-cell:/Users/erionislamay/Desktop/Lab%20programmazione/ProgrammingLab/Learning%20Python/Import.ipynb#ch0000003?line=1'>2</a>\u001b[0m \u001b[39mfrom\u001b[39;00m \u001b[39mturtle\u001b[39;00m \u001b[39mimport\u001b[39;00m Turtle\n\u001b[0;32m----> <a href='vscode-notebook-cell:/Users/erionislamay/Desktop/Lab%20programmazione/ProgrammingLab/Learning%20Python/Import.ipynb#ch0000003?line=2'>3</a>\u001b[0m raffaello \u001b[39m=\u001b[39m turtle()\n",
      "\u001b[0;31mTypeError\u001b[0m: 'module' object is not callable"
     ]
    }
   ],
   "source": [
    "# oppure importare singole classi/funzioni all'interno del modulo\n",
    "from turtle import Turtle\n",
    "raffaello = turtle()"
   ]
  },
  {
   "cell_type": "code",
   "execution_count": null,
   "metadata": {},
   "outputs": [
    {
     "name": "stdout",
     "output_type": "stream",
     "text": [
      "2.0\n",
      "[2. 3. 5.]\n"
     ]
    }
   ],
   "source": [
    "import numpy\n",
    "import math\n",
    "\n",
    "print( math.sqrt(4))\n",
    "print( numpy.sqrt([4,9,25]))"
   ]
  },
  {
   "cell_type": "markdown",
   "metadata": {},
   "source": [
    "## NUMPY\n",
    "\n",
    "è il pacchetto che consente di lavorare con i vettori!! Fondamentale in dataScience"
   ]
  },
  {
   "cell_type": "code",
   "execution_count": null,
   "metadata": {},
   "outputs": [
    {
     "name": "stdout",
     "output_type": "stream",
     "text": [
      "[1 2 3 4 5]\n",
      "<class 'numpy.ndarray'>\n",
      "[[0 0 0 1 0 0 0 0]\n",
      " [0 0 0 0 0 0 1 0]\n",
      " [0 1 0 0 0 0 0 0]\n",
      " [0 0 0 0 0 0 1 0]\n",
      " [0 0 0 0 0 0 1 0]\n",
      " [0 0 0 0 0 0 1 0]\n",
      " [0 0 0 0 0 0 1 0]\n",
      " [0 0 0 0 0 0 1 0]]\n"
     ]
    }
   ],
   "source": [
    "import numpy as np\n",
    "\n",
    "vettore = np.array([1,2,3,4,5])\n",
    "print(vettore)\n",
    "print(type(vettore))\n",
    "\n",
    "matrice = np.array([[0,0,0,1,0,0,0,0],\n",
    "                    [0,0,0,0,0,0,1,0],\n",
    "                    [0,1,0,0,0,0,0,0],\n",
    "                    [0,0,0,0,0,0,1,0],\n",
    "                    [0,0,0,0,0,0,1,0],\n",
    "                    [0,0,0,0,0,0,1,0],\n",
    "                    [0,0,0,0,0,0,1,0],\n",
    "                    [0,0,0,0,0,0,1,0]])\n",
    "\n",
    "print(matrice)\n",
    "                   "
   ]
  },
  {
   "cell_type": "code",
   "execution_count": null,
   "metadata": {},
   "outputs": [
    {
     "data": {
      "text/plain": [
       "4"
      ]
     },
     "execution_count": 15,
     "metadata": {},
     "output_type": "execute_result"
    }
   ],
   "source": [
    "v = np.array([1,2,3,4,5])\n",
    "a = np.array([[1,2],[3,4]])\n",
    "b = np.array([[5,6],[7,8]])\n",
    "\n",
    "#np.size(v)\n",
    "#np.shape(v)\n",
    "np.size(a)\n",
    "#np.shape(a)"
   ]
  },
  {
   "cell_type": "code",
   "execution_count": null,
   "metadata": {},
   "outputs": [
    {
     "data": {
      "text/plain": [
       "1.4142135623730951"
      ]
     },
     "execution_count": 19,
     "metadata": {},
     "output_type": "execute_result"
    }
   ],
   "source": [
    "np.max(v)\n",
    "np.mean(v)\n",
    "np.std(v)"
   ]
  },
  {
   "cell_type": "code",
   "execution_count": null,
   "metadata": {},
   "outputs": [
    {
     "data": {
      "text/plain": [
       "array([[1, 3],\n",
       "       [2, 4]])"
      ]
     },
     "execution_count": 20,
     "metadata": {},
     "output_type": "execute_result"
    }
   ],
   "source": [
    "np.transpose(a)"
   ]
  },
  {
   "cell_type": "code",
   "execution_count": null,
   "metadata": {},
   "outputs": [
    {
     "data": {
      "text/plain": [
       "array([[ 6,  8],\n",
       "       [10, 12]])"
      ]
     },
     "execution_count": 21,
     "metadata": {},
     "output_type": "execute_result"
    }
   ],
   "source": [
    "a + b"
   ]
  },
  {
   "cell_type": "code",
   "execution_count": null,
   "metadata": {},
   "outputs": [
    {
     "data": {
      "text/plain": [
       "array([[17, 23],\n",
       "       [39, 53]])"
      ]
     },
     "execution_count": 23,
     "metadata": {},
     "output_type": "execute_result"
    }
   ],
   "source": [
    "np.inner(a,b) # Prodotto scalare "
   ]
  },
  {
   "cell_type": "markdown",
   "metadata": {},
   "source": [
    "## Matplotlib\n",
    "\n",
    "visualizzare statistiche animate e interattive"
   ]
  },
  {
   "cell_type": "code",
   "execution_count": null,
   "metadata": {},
   "outputs": [],
   "source": []
  }
 ],
 "metadata": {
  "kernelspec": {
   "display_name": "Python 3.10.0 64-bit",
   "language": "python",
   "name": "python3"
  },
  "language_info": {
   "codemirror_mode": {
    "name": "ipython",
    "version": 3
   },
   "file_extension": ".py",
   "mimetype": "text/x-python",
   "name": "python",
   "nbconvert_exporter": "python",
   "pygments_lexer": "ipython3",
   "version": "3.10.0"
  },
  "orig_nbformat": 4,
  "vscode": {
   "interpreter": {
    "hash": "aee8b7b246df8f9039afb4144a1f6fd8d2ca17a180786b69acc140d282b71a49"
   }
  }
 },
 "nbformat": 4,
 "nbformat_minor": 2
}
