{
 "cells": [
  {
   "cell_type": "markdown",
   "metadata": {},
   "source": [
    "## Le CLASSI"
   ]
  },
  {
   "cell_type": "code",
   "execution_count": 5,
   "metadata": {},
   "outputs": [
    {
     "name": "stdout",
     "output_type": "stream",
     "text": [
      "7 6\n",
      "0 0\n",
      "9.219544457292887\n"
     ]
    }
   ],
   "source": [
    "class Punto:\n",
    "    '''\n",
    "    Una classe per rappresentare e operare con una coppia di cooordinate x,y come punto sul piano\n",
    "    '''\n",
    "    def __init__(self, x=0, y=0): # posso impostare come valore default 0\n",
    "        ''' inizializza le coordinate del punto'''\n",
    "        self.x = x\n",
    "        self.y = y\n",
    "        pass\n",
    "    \n",
    "    #creiamo un nuovo metodo della classe che permetta di calcolare la distanza del punto (x,y) dall'origine.\n",
    "    # Un METODO si comporta come una funzione ma è applicato alla specifica istanza (oggetto) della classe. \n",
    "    def distanza_origine(self): \n",
    "        '''Calcola la distanza dall'origine'''\n",
    "        return (self.x**2 +self.y**2)**0.5\n",
    "\n",
    "p = Punto(7,6)\n",
    "print(p.x,p.y)\n",
    "q = Punto()\n",
    "print(q.x,q.y)  # mi mostra i valori di default\n",
    "print(p.distanza_origine())\n"
   ]
  },
  {
   "cell_type": "markdown",
   "metadata": {},
   "source": [
    "I metodi dell'istanza di una classe (la maggior parte dei metodi che scriveremo) possono accedere liberamente ai metodi e attributi dell'oggetto per modificare lo stato. Questi si riconoscono perche utilizzano il parametro ***self***, e per essere utilizzati **deve esistere una istanza della classe** (cioè devo aver chiamato il costruttore per creare una istanza).\n",
    "\n",
    "ESsitono anche i CLASS METHOD che invece non possono modificare lo stato di una specifica istanza, ma solo lo stato della classe. Come i metodi dell'istanza conoscevano le informazioni dell'oggetto tramite la variabile **self**, i metodi della classe conoscono la informazioni della classe tramite la variabile **cls**"
   ]
  },
  {
   "cell_type": "code",
   "execution_count": 9,
   "metadata": {},
   "outputs": [
    {
     "name": "stdout",
     "output_type": "stream",
     "text": [
      "0 0\n"
     ]
    }
   ],
   "source": [
    "class Punto:\n",
    "    '''\n",
    "    Una classe per rappresentare e operare con una coppia di cooordinate x,y come punto sul piano\n",
    "    '''\n",
    "    #uso classmethod per impostare valori di default che esisteranno sempre\n",
    "    @classmethod\n",
    "    def origin(cls):\n",
    "        '''Metodo della classe che imposta i valori x=0 e y=0'''\n",
    "        return cls(0,0) # cls contiene tutte le informazioni sulla classe\n",
    "\n",
    "\n",
    "    def __init__(self, x, y): #\n",
    "        ''' inizializza le coordinate del punto'''\n",
    "        self.x = x\n",
    "        self.y = y\n",
    "        pass\n",
    "    \n",
    " \n",
    "    def distanza_origine(self): \n",
    "        '''Calcola la distanza dall'origine'''\n",
    "        return (self.x**2 +self.y**2)**0.\n",
    "        \n",
    "p=Punto.origin()\n",
    "print(p.x,p.y)"
   ]
  },
  {
   "cell_type": "markdown",
   "metadata": {},
   "source": [
    "I METODI STATICI invece non possono modificare lo stato nè dell'oggetto e nè della classe. Possono accedere solo ad altri attributi statici dell'oggetto."
   ]
  },
  {
   "cell_type": "code",
   "execution_count": 10,
   "metadata": {},
   "outputs": [
    {
     "data": {
      "text/plain": [
       "False"
      ]
     },
     "execution_count": 10,
     "metadata": {},
     "output_type": "execute_result"
    }
   ],
   "source": [
    "# ad esempio se volessimo controllare se una coordinata è valida (entro un limite definito da noi):\n",
    "\n",
    "class Punto:\n",
    "    '''\n",
    "    Una classe per rappresentare e operare con una coppia di cooordinate x,y come punto sul piano\n",
    "    '''\n",
    "    #uso classmethod per impostare valori di default che esisteranno sempre\n",
    "    @classmethod\n",
    "    def origin(cls):\n",
    "        '''Metodo della classe che imposta i valori x=0 e y=0'''\n",
    "        return cls(0,0) # cls contiene tutte le informazioni sulla classe\n",
    "\n",
    "\n",
    "    def __init__(self, x, y): #\n",
    "        ''' inizializza le coordinate del punto'''\n",
    "        self.x = x\n",
    "        self.y = y\n",
    "        pass\n",
    "    \n",
    "    @staticmethod\n",
    "    def coordinata_valida(x):  # Non c'è self perchè non so nulla dell'istanza!\n",
    "        '''Controllo se la coordinata è entro il limite 100'''\n",
    "        return x < 100\n",
    "\n",
    "Punto.coordinata_valida(273) # la coordinata 273 è valida?\n"
   ]
  },
  {
   "cell_type": "code",
   "execution_count": 13,
   "metadata": {},
   "outputs": [
    {
     "name": "stdout",
     "output_type": "stream",
     "text": [
      "5.5 6.5\n"
     ]
    }
   ],
   "source": [
    "class Punto:\n",
    "    '''\n",
    "    Una classe per rappresentare e operare con una coppia di cooordinate x,y come punto sul piano\n",
    "    '''\n",
    "    #uso classmethod per impostare valori di default che esisteranno sempre\n",
    "    @classmethod\n",
    "    def origin(cls):\n",
    "        '''Metodo della classe che imposta i valori x=0 e y=0'''\n",
    "        return cls(0,0) # cls contiene tutte le informazioni sulla classe\n",
    "\n",
    "\n",
    "    def __init__(self, x, y): #\n",
    "        ''' inizializza le coordinate del punto'''\n",
    "        self.x = x\n",
    "        self.y = y\n",
    "        pass\n",
    "    \n",
    "    @staticmethod\n",
    "    def coordinata_valida(x):  # Non c'è self perchè non so nulla dell'istanza!\n",
    "        '''Controllo se la coordinata è entro il limite 100'''\n",
    "        return x < 100\n",
    "\n",
    "def punto_medio(p1, p2):\n",
    "    '''Metodo che calcola il punto medio tra due punti'''\n",
    "    mx = (p1.x + p2.x)/2\n",
    "    my = (p1.y + p2.y)/2\n",
    "    return Punto(mx,my)\n",
    "\n",
    "p = Punto(3,4)\n",
    "q = Punto(8,9)\n",
    "pm = punto_medio(p,q)\n",
    "print(pm.x,pm.y)\n"
   ]
  },
  {
   "cell_type": "markdown",
   "metadata": {},
   "source": [
    "## EREDITARE DA ALTRE CLASSI\n",
    "\n",
    "una carattetistica fondamentale della prog ad oggetti è la possibilità di ereditare metodi da altre classi! in pratica, l'ereditarietà ci permette di definire una classe che sia una specializzazione di un'altra classe più generica.\n",
    "\n",
    "La nuova classe ( child class ) EREDITA dalla classe generica ( Parent class ) TUTTI i metodi.\n",
    "\n",
    "L'ereditarietà mi consente di aggiungere metodi e funzionalità, senza modificare una classe già esistente che rappresenta in modo completo ed esaustivo un determinato oggetto."
   ]
  },
  {
   "cell_type": "code",
   "execution_count": 14,
   "metadata": {},
   "outputs": [
    {
     "name": "stdout",
     "output_type": "stream",
     "text": [
      "4 5\n"
     ]
    }
   ],
   "source": [
    "class PuntoMassa(Punto): # cosi eredito tutto dalla classe Punto\n",
    "    '''Una classe per rappresentare una massa puntiforme'''\n",
    "    pass\n",
    "\n",
    "pm= PuntoMassa(4,5)\n",
    "print(pm.x, pm.y)"
   ]
  },
  {
   "cell_type": "markdown",
   "metadata": {},
   "source": [
    "L0ggetto massa puntiforme è caratterizzato anche da una massa, oltre che dalle sue coordinate: va quindi inizializzato sia con le coordinata che con il valore della massa. PEr farlo serve un merodo __init__ DIVERSO da quello della classe Punto, che abbia 3 paramentri:\n"
   ]
  },
  {
   "cell_type": "code",
   "execution_count": 18,
   "metadata": {},
   "outputs": [
    {
     "name": "stdout",
     "output_type": "stream",
     "text": [
      "98.10000000000001\n"
     ]
    }
   ],
   "source": [
    "# la classe Punto descrive il punot generico, la classe Punto massa descrive il punto fisico\n",
    "\n",
    "class PuntoMassa(Punto): # cosi eredito tutto dalla classe Punto\n",
    "    '''Una classe per rappresentare una massa puntiforme'''\n",
    "    \n",
    "    def __init__(self, x=0, y=0, m=0):\n",
    "        '''Sovrascrive l'__init__ di Punto per tenere conto della massa'''\n",
    "        super().__init__(x,y) # Per le coordinate uso l'init di Punto. UTILIZZO super()\n",
    "        self.m = m # aggiungo il nuovo attributo massa\n",
    "\n",
    "    def peso(self):\n",
    "        '''Restituisce il peso dell'oggetto'''\n",
    "        return self.m * 9.81\n",
    "\n",
    "p = PuntoMassa(4,5, 10)\n",
    "print(p.peso())\n",
    "\n",
    "\n"
   ]
  }
 ],
 "metadata": {
  "kernelspec": {
   "display_name": "Python 3.10.0 64-bit",
   "language": "python",
   "name": "python3"
  },
  "language_info": {
   "codemirror_mode": {
    "name": "ipython",
    "version": 3
   },
   "file_extension": ".py",
   "mimetype": "text/x-python",
   "name": "python",
   "nbconvert_exporter": "python",
   "pygments_lexer": "ipython3",
   "version": "3.10.0"
  },
  "orig_nbformat": 4,
  "vscode": {
   "interpreter": {
    "hash": "aee8b7b246df8f9039afb4144a1f6fd8d2ca17a180786b69acc140d282b71a49"
   }
  }
 },
 "nbformat": 4,
 "nbformat_minor": 2
}
