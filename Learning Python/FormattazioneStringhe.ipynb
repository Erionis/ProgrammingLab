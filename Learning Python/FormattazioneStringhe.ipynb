{
 "cells": [
  {
   "cell_type": "markdown",
   "metadata": {},
   "source": [
    "## Formattazione delle stringhe\n",
    "\n",
    "vogliamo scrivere:\n",
    "\n",
    "\" Mi chiamo Gianfry, ho 42 anni e sono alto 1.75. tra 145 anni avrò 187 anni\""
   ]
  },
  {
   "cell_type": "code",
   "execution_count": 1,
   "metadata": {},
   "outputs": [],
   "source": [
    "nome = 'Gianfry'\n",
    "anni = 42\n",
    "altezza = 1.75"
   ]
  },
  {
   "cell_type": "code",
   "execution_count": 2,
   "metadata": {},
   "outputs": [
    {
     "name": "stdout",
     "output_type": "stream",
     "text": [
      "Mi chiamo Gianfry , ho 42 anni e sono alto 1.75 . Tra 145 anni avrò 187 anni.\n"
     ]
    }
   ],
   "source": [
    "# PRIMO METODO\n",
    "print( \"Mi chiamo\", nome, \", ho\", anni, 'anni e sono alto', altezza, '. Tra 145 anni avrò', anni+145,'anni.')"
   ]
  },
  {
   "cell_type": "code",
   "execution_count": 4,
   "metadata": {},
   "outputs": [
    {
     "name": "stdout",
     "output_type": "stream",
     "text": [
      "Mi chiamo Gianfry, ho 42 anni e sono alto 1.750000. Tra 145 anni avrò 187 anni.\n"
     ]
    }
   ],
   "source": [
    "# SECONDO METODO - Old style\n",
    "print( 'Mi chiamo %s, ho %i anni e sono alto %f. Tra 145 anni avrò %d anni.' %(nome, anni, altezza, anni+145))"
   ]
  },
  {
   "cell_type": "code",
   "execution_count": 6,
   "metadata": {},
   "outputs": [
    {
     "name": "stdout",
     "output_type": "stream",
     "text": [
      " Mi chiamo Gianfry, ho 42 anni e sono alto 1.75. tra 145 anni avrò 187 anni.\n"
     ]
    }
   ],
   "source": [
    "# TERZO METODO - New style\n",
    "print(\" Mi chiamo {}, ho {} anni e sono alto {}. tra 145 anni avrò {} anni.\".format(nome, anni, altezza, anni+145))"
   ]
  },
  {
   "cell_type": "code",
   "execution_count": 8,
   "metadata": {},
   "outputs": [
    {
     "name": "stdout",
     "output_type": "stream",
     "text": [
      " Mi chiamo Gianfry, ho 42 anni e sono alto 1.75. tra 145 anni avrò 187 anni.\n"
     ]
    }
   ],
   "source": [
    "# QUARTO METODO - fstrings con la f davanti!!\n",
    "print(f\" Mi chiamo {nome}, ho {anni} anni e sono alto {altezza}. tra 145 anni avrò {anni+145} anni.\")"
   ]
  }
 ],
 "metadata": {
  "kernelspec": {
   "display_name": "Python 3.10.0 64-bit",
   "language": "python",
   "name": "python3"
  },
  "language_info": {
   "codemirror_mode": {
    "name": "ipython",
    "version": 3
   },
   "file_extension": ".py",
   "mimetype": "text/x-python",
   "name": "python",
   "nbconvert_exporter": "python",
   "pygments_lexer": "ipython3",
   "version": "3.10.0"
  },
  "orig_nbformat": 4,
  "vscode": {
   "interpreter": {
    "hash": "aee8b7b246df8f9039afb4144a1f6fd8d2ca17a180786b69acc140d282b71a49"
   }
  }
 },
 "nbformat": 4,
 "nbformat_minor": 2
}
